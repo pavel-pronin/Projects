{
 "cells": [
  {
   "cell_type": "code",
   "execution_count": 2,
   "id": "e794de28",
   "metadata": {},
   "outputs": [],
   "source": [
    "import pandas as pd\n",
    "import numpy as np\n",
    "from scipy.optimize import minimize\n",
    "import scipy.stats as ss\n",
    "from sklearn.preprocessing import OrdinalEncoder"
   ]
  },
  {
   "cell_type": "code",
   "execution_count": 3,
   "id": "89e0cc2e",
   "metadata": {},
   "outputs": [
    {
     "data": {
      "text/html": [
       "<div>\n",
       "<style scoped>\n",
       "    .dataframe tbody tr th:only-of-type {\n",
       "        vertical-align: middle;\n",
       "    }\n",
       "\n",
       "    .dataframe tbody tr th {\n",
       "        vertical-align: top;\n",
       "    }\n",
       "\n",
       "    .dataframe thead th {\n",
       "        text-align: right;\n",
       "    }\n",
       "</style>\n",
       "<table border=\"1\" class=\"dataframe\">\n",
       "  <thead>\n",
       "    <tr style=\"text-align: right;\">\n",
       "      <th></th>\n",
       "      <th>okpo</th>\n",
       "      <th>companyname</th>\n",
       "      <th>year</th>\n",
       "      <th>fixedassets</th>\n",
       "      <th>sales</th>\n",
       "      <th>profit</th>\n",
       "      <th>profitaftertax</th>\n",
       "      <th>employees</th>\n",
       "      <th>wages</th>\n",
       "      <th>postcode</th>\n",
       "      <th>region</th>\n",
       "      <th>okved2008</th>\n",
       "    </tr>\n",
       "  </thead>\n",
       "  <tbody>\n",
       "    <tr>\n",
       "      <th>0</th>\n",
       "      <td>75775799</td>\n",
       "      <td>rekaveri</td>\n",
       "      <td>2008.0</td>\n",
       "      <td>5.684062</td>\n",
       "      <td>0.000000</td>\n",
       "      <td>0.000000</td>\n",
       "      <td>0.000000</td>\n",
       "      <td>2.0</td>\n",
       "      <td>NaN</td>\n",
       "      <td>169710</td>\n",
       "      <td>Komi Republic</td>\n",
       "      <td>111011</td>\n",
       "    </tr>\n",
       "    <tr>\n",
       "      <th>1</th>\n",
       "      <td>75775799</td>\n",
       "      <td>rekaveri</td>\n",
       "      <td>2009.0</td>\n",
       "      <td>0.264514</td>\n",
       "      <td>0.000000</td>\n",
       "      <td>0.000000</td>\n",
       "      <td>-484.522644</td>\n",
       "      <td>2.0</td>\n",
       "      <td>NaN</td>\n",
       "      <td>169710</td>\n",
       "      <td>Komi Republic</td>\n",
       "      <td>111011</td>\n",
       "    </tr>\n",
       "    <tr>\n",
       "      <th>2</th>\n",
       "      <td>75775799</td>\n",
       "      <td>rekaveri</td>\n",
       "      <td>2010.0</td>\n",
       "      <td>0.000000</td>\n",
       "      <td>0.000000</td>\n",
       "      <td>0.000000</td>\n",
       "      <td>-418.413879</td>\n",
       "      <td>2.0</td>\n",
       "      <td>NaN</td>\n",
       "      <td>169710</td>\n",
       "      <td>Komi Republic</td>\n",
       "      <td>111011</td>\n",
       "    </tr>\n",
       "    <tr>\n",
       "      <th>3</th>\n",
       "      <td>74066994</td>\n",
       "      <td>unistroi</td>\n",
       "      <td>2005.0</td>\n",
       "      <td>0.382210</td>\n",
       "      <td>18.276581</td>\n",
       "      <td>18.276581</td>\n",
       "      <td>0.451703</td>\n",
       "      <td>15.0</td>\n",
       "      <td>NaN</td>\n",
       "      <td>103055</td>\n",
       "      <td>Moscow</td>\n",
       "      <td>111000</td>\n",
       "    </tr>\n",
       "    <tr>\n",
       "      <th>4</th>\n",
       "      <td>73614678</td>\n",
       "      <td>interneft</td>\n",
       "      <td>2007.0</td>\n",
       "      <td>0.000000</td>\n",
       "      <td>0.000000</td>\n",
       "      <td>0.000000</td>\n",
       "      <td>0.000000</td>\n",
       "      <td>NaN</td>\n",
       "      <td>NaN</td>\n",
       "      <td>460000</td>\n",
       "      <td>Orenburg Region</td>\n",
       "      <td>111011</td>\n",
       "    </tr>\n",
       "  </tbody>\n",
       "</table>\n",
       "</div>"
      ],
      "text/plain": [
       "       okpo companyname    year  fixedassets      sales     profit  \\\n",
       "0  75775799    rekaveri  2008.0     5.684062   0.000000   0.000000   \n",
       "1  75775799    rekaveri  2009.0     0.264514   0.000000   0.000000   \n",
       "2  75775799    rekaveri  2010.0     0.000000   0.000000   0.000000   \n",
       "3  74066994    unistroi  2005.0     0.382210  18.276581  18.276581   \n",
       "4  73614678   interneft  2007.0     0.000000   0.000000   0.000000   \n",
       "\n",
       "   profitaftertax  employees  wages  postcode           region  okved2008  \n",
       "0        0.000000        2.0    NaN    169710    Komi Republic     111011  \n",
       "1     -484.522644        2.0    NaN    169710    Komi Republic     111011  \n",
       "2     -418.413879        2.0    NaN    169710    Komi Republic     111011  \n",
       "3        0.451703       15.0    NaN    103055           Moscow     111000  \n",
       "4        0.000000        NaN    NaN    460000  Orenburg Region     111011  "
      ]
     },
     "execution_count": 3,
     "metadata": {},
     "output_type": "execute_result"
    }
   ],
   "source": [
    "data = pd.read_stata('PS1/oil.dta')\n",
    "data.head()"
   ]
  },
  {
   "cell_type": "markdown",
   "id": "0b7e2816",
   "metadata": {},
   "source": [
    "**Simple Static Cobb-Douglas**\n",
    "\n",
    "$$\n",
    "Q_j = M_jK_j^\\alpha L_j^\\beta\\\\\n",
    "m_j = \\mu + e_j\\\\\n",
    "q_j = \\mu + \\alpha k_j + \\beta l_j + e_j\\\\\n",
    "\\theta = \\begin{bmatrix} \\mu \\\\ \\alpha \\\\ \\beta \\end{bmatrix}, X = \\begin{bmatrix}\n",
    "1 \\\\ k_j \\\\\n",
    "l_j \\end{bmatrix}\\\\\n",
    "\\hat{\\theta} = (X'X)^{-1} (X' y)\n",
    "$$\n",
    "\n",
    "**Returns to Scale**\n",
    "\n",
    "$$\n",
    "Q_j(K_j, L_j) = M_j K_j^\\alpha L_j^\\beta \\\\\n",
    "Q_j(\\gamma K_j, \\gamma L_j) = \\gamma^{\\alpha + \\beta} M_j K_j^\\alpha L_j^\\beta = \\gamma^{\\alpha + \\beta} Q_j(K_j, L_j)\n",
    "$$\n",
    "Function satisfies:\n",
    "1. CRS if $\\gamma Q_j(K_j, L_j) = Q_j(\\gamma K_j, \\gamma L_j) \\iff \\alpha + \\beta = 1$\n",
    "2. DRS if $\\gamma Q_j(K_j, L_j) > Q_j(\\gamma K_j, \\gamma L_j) \\iff \\alpha + \\beta < 1$\n",
    "3. IRS if $\\gamma Q_j(K_j, L_j) < Q_j(\\gamma K_j, \\gamma L_j) \\iff \\alpha + \\beta > 1$\n",
    "\n",
    "**Testing CRS**\n",
    "\n",
    "Null Hypothesis is $$H_0: \\alpha + \\beta - 1 = 0$$\n",
    "\n",
    "We can use the *Wald Statistic* under linear hypothesis:\n",
    "\n",
    "$$\n",
    "H_0: R'\\theta = \\theta_0 \\\\\n",
    "H_1: R'\\theta \\neq \\theta_0\\\\\n",
    "\\theta' = \\begin{bmatrix} \\mu &  \\alpha & \\beta \\end{bmatrix} \\\\\n",
    "R' = \\begin{bmatrix}\n",
    "0 & 1 & 1\n",
    "\\end{bmatrix}\\\\\n",
    "\\theta_0 = 1\n",
    "$$\n",
    "Wald statistic is \n",
    "$$\n",
    "W = (R'\\hat{\\theta} - \\theta_0)'\\left(R'\\hat{V}_{\\hat{\\theta}}R\\right)^{-1}(R'\\hat{\\theta} - \\theta_0)\\\\\n",
    "W \\overset{d}{\\to} \\chi^2_q, q = 1\\\\\n",
    "\\text{P-value} = 1 - \\chi^2_1(W)\n",
    "$$\n",
    "\n",
    "**Testing IRS**\n",
    "\n",
    "Null Hypothesis is\n",
    "$$\n",
    "H_0: \\alpha + \\beta > 1\\\\\n",
    "H_1: \\alpha + \\beta \\leq 1\n",
    "$$\n",
    "\n",
    "\n"
   ]
  },
  {
   "cell_type": "code",
   "execution_count": 9,
   "id": "319b0c9b",
   "metadata": {},
   "outputs": [
    {
     "name": "stderr",
     "output_type": "stream",
     "text": [
      "/usr/local/anaconda3/envs/tensorflow_on_mac/lib/python3.8/site-packages/pandas/core/arraylike.py:402: RuntimeWarning: invalid value encountered in log\n",
      "  result = getattr(ufunc, method)(*inputs, **kwargs)\n"
     ]
    }
   ],
   "source": [
    "data['q'] = np.log(data['sales'] + 0.000001)\n",
    "data['k'] = np.log(data['fixedassets'] + 0.000001)\n",
    "data['l'] = np.log(data['employees'] + 0.000001)\n",
    "data['const'] = 1"
   ]
  },
  {
   "cell_type": "code",
   "execution_count": 10,
   "id": "2c9cbcdf",
   "metadata": {},
   "outputs": [],
   "source": [
    "oil = data.loc[(data.q.isna() == False) & (data.l.isna() == False) & (data.l.isna() == False), ['okpo', 'year', 'q', 'const', 'k', 'l']]\n",
    "oil.head()\n",
    "\n",
    "const = oil.const\n",
    "l = oil.l\n",
    "k = oil.k\n",
    "y = oil.q\n",
    "\n",
    "X = np.stack((const, k,l), axis = 1)"
   ]
  },
  {
   "cell_type": "code",
   "execution_count": 11,
   "id": "1e1d968b",
   "metadata": {},
   "outputs": [],
   "source": [
    "class OLS:\n",
    "    def __init__(self, y, X, round = False, FE = False, id = None):\n",
    "        self.y, self.X = y, X\n",
    "        self.N_COEF = self.X.shape[1]\n",
    "        if FE:\n",
    "            self.X = np.append(self.X, pd.get_dummies(id, drop_first = True), axis = 1)\n",
    "\n",
    "        self.BETA = self.BETA()\n",
    "        self.VCOV = self.VCOV(self.BETA)\n",
    "        self.SE = np.sqrt(self.VCOV.diagonal())\n",
    "        self.res = dict(zip(np.round(self.BETA,4), np.round(self.SE,4)))\n",
    "        self.Wald_CRS = self.Wald_CRS(self.BETA, self.VCOV)\n",
    "        if FE:\n",
    "            self.BETA_FE = self.BETA[(self.N_COEF+1):]\n",
    "            self.BETA = self.BETA[:self.N_COEF]\n",
    "            self.SE_FE = self.SE[(self.N_COEF+1):]\n",
    "            self.SE = self.SE[:self.N_COEF]\n",
    "            self.res = dict(zip(np.round(self.BETA,4), np.round(self.SE,4)))\n",
    "        \n",
    "    def BETA(self):\n",
    "        X, y = self.X, self.y\n",
    "        BETA = np.linalg.inv(X.T @ X) @ X.T @ y\n",
    "        return BETA \n",
    "    \n",
    "    def VCOV(self, BETA):\n",
    "        X, y = self.X, self.y \n",
    "        res = y - X @ BETA\n",
    "        s2 = (1/(X.shape[0]-X.shape[1]))*sum(res**2) \n",
    "        VCOV = s2*np.linalg.inv(X.T @ X)\n",
    "        return VCOV\n",
    "    \n",
    "    def Wald_CRS(self, BETA, VCOV):\n",
    "        B0 = 1\n",
    "        R = np.array(np.zeros_like(BETA), ndmin=2).T\n",
    "        R[1:2] = 1\n",
    "        W = (R.T @ BETA - B0).T @ np.linalg.inv(R.T @ VCOV @ R) @ (R.T @ BETA - B0)\n",
    "        PVAL = 1 - ss.chi2.cdf(W, df = 1)\n",
    "        return (W, PVAL)"
   ]
  },
  {
   "cell_type": "code",
   "execution_count": 13,
   "id": "18503e14",
   "metadata": {},
   "outputs": [
    {
     "name": "stdout",
     "output_type": "stream",
     "text": [
      "\\begin{tabular}{lrr}\n",
      " & est & se \\\\\n",
      "const & -8.452300 & 0.176100 \\\\\n",
      "k & 0.230300 & 0.013200 \\\\\n",
      "l & 2.768600 & 0.049100 \\\\\n",
      "\\end{tabular}\n",
      "\n"
     ]
    }
   ],
   "source": [
    "m_OLS = OLS(y, X)\n",
    "res = pd.DataFrame(m_OLS.res, index = [0]).T\n",
    "res['est'] = res.index\n",
    "res.index = ['const', 'k', 'l']\n",
    "res = res.loc[:, ['est', 0]]\n",
    "res.columns = ['est', 'se']\n",
    "print(res.style.to_latex())"
   ]
  },
  {
   "cell_type": "code",
   "execution_count": 14,
   "id": "d588dcea",
   "metadata": {},
   "outputs": [
    {
     "name": "stdout",
     "output_type": "stream",
     "text": [
      "\\begin{tabular}{lrr}\n",
      " & est & se \\\\\n",
      "const & -4.864500 & 3.134300 \\\\\n",
      "k & 0.187300 & 0.023100 \\\\\n",
      "l & 2.198600 & 0.096900 \\\\\n",
      "\\end{tabular}\n",
      "\n"
     ]
    }
   ],
   "source": [
    "m_FE = OLS(y, X, FE = True, id = oil.okpo)\n",
    "res = pd.DataFrame(m_FE.res, index = [0]).T\n",
    "res['est'] = res.index\n",
    "res.index = ['const', 'k', 'l']\n",
    "res = res.loc[:, ['est', 0]]\n",
    "res.columns = ['est', 'se']\n",
    "print(res.style.to_latex())"
   ]
  },
  {
   "cell_type": "markdown",
   "id": "8b503363",
   "metadata": {},
   "source": [
    "## CRS and IRS"
   ]
  },
  {
   "cell_type": "code",
   "execution_count": 15,
   "id": "b754a1ab",
   "metadata": {},
   "outputs": [
    {
     "data": {
      "text/plain": [
       "(3416.2314975607514, 0.0)"
      ]
     },
     "execution_count": 15,
     "metadata": {},
     "output_type": "execute_result"
    }
   ],
   "source": [
    "m_OLS.Wald_CRS"
   ]
  },
  {
   "cell_type": "code",
   "execution_count": 17,
   "id": "38f6bb47",
   "metadata": {},
   "outputs": [
    {
     "name": "stdout",
     "output_type": "stream",
     "text": [
      "63.64301644216705\n"
     ]
    }
   ],
   "source": [
    "VCOV_alpha = m_OLS.VCOV[1,1]\n",
    "VCOV_beta = m_OLS.VCOV[2,2]\n",
    "COV_alphabeta = m_OLS.VCOV[1,2]\n",
    "se_alpha_p_beta = np.sqrt(VCOV_alpha + VCOV_beta + COV_alphabeta)\n",
    "alpha = m_OLS.BETA[1]\n",
    "beta = m_OLS.BETA[2]\n",
    "t = (alpha+beta)/se_alpha_p_beta\n",
    "print(t)"
   ]
  },
  {
   "cell_type": "markdown",
   "id": "4b051c0f",
   "metadata": {},
   "source": [
    "## Time Trend"
   ]
  },
  {
   "cell_type": "code",
   "execution_count": 19,
   "id": "e50998c3",
   "metadata": {},
   "outputs": [
    {
     "name": "stdout",
     "output_type": "stream",
     "text": [
      "\\begin{tabular}{lrr}\n",
      " & est & se \\\\\n",
      "const & -9.638700 & 0.352400 \\\\\n",
      "k & 0.134400 & 0.027300 \\\\\n",
      "l & 3.247900 & 0.099400 \\\\\n",
      "time & 0.288300 & 0.076600 \\\\\n",
      "time_x_k & 0.023100 & 0.005700 \\\\\n",
      "time_x_l & -0.114800 & 0.020800 \\\\\n",
      "\\end{tabular}\n",
      "\n"
     ]
    }
   ],
   "source": [
    "# time trend\n",
    "oil['time'] = oil.year - min(oil.year)\n",
    "oil['time_x_k'] = oil.time * oil.k\n",
    "oil['time_x_l'] = oil.time * oil.l\n",
    "\n",
    "X1 = np.array(oil.loc[:, ['const', 'k', 'l', 'time', 'time_x_k', 'time_x_l']])\n",
    "m1_OLS = OLS(y, X1)\n",
    "m1_FE = OLS(y, X1, FE = True, id = oil.okpo)\n",
    "res = pd.DataFrame(m1_OLS.res, index = [0]).T\n",
    "res['est'] = res.index\n",
    "res.index = ['const', 'k', 'l', 'time', 'time_x_k', 'time_x_l']\n",
    "res = res.loc[:, ['est', 0]]\n",
    "res.columns = ['est', 'se']\n",
    "print(res.style.to_latex())"
   ]
  },
  {
   "cell_type": "code",
   "execution_count": 20,
   "id": "4b814e57",
   "metadata": {},
   "outputs": [
    {
     "name": "stdout",
     "output_type": "stream",
     "text": [
      "\\begin{tabular}{lrr}\n",
      " & est & se \\\\\n",
      "const & -4.562300 & 3.141100 \\\\\n",
      "k & 0.049200 & 0.034000 \\\\\n",
      "l & 2.496200 & 0.118600 \\\\\n",
      "time & 0.097200 & 0.068500 \\\\\n",
      "time_x_k & 0.031200 & 0.005700 \\\\\n",
      "time_x_l & -0.075300 & 0.017100 \\\\\n",
      "\\end{tabular}\n",
      "\n"
     ]
    }
   ],
   "source": [
    "res = pd.DataFrame(m1_FE.res, index = [0]).T\n",
    "res['est'] = res.index\n",
    "res.index = ['const', 'k', 'l', 'time', 'time_x_k', 'time_x_l']\n",
    "res = res.loc[:, ['est', 0]]\n",
    "res.columns = ['est', 'se']\n",
    "print(res.style.to_latex())"
   ]
  },
  {
   "cell_type": "code",
   "execution_count": 21,
   "id": "679dc7cc",
   "metadata": {},
   "outputs": [
    {
     "name": "stdout",
     "output_type": "stream",
     "text": [
      "\\begin{tabular}{lrr}\n",
      " & est & se \\\\\n",
      "const & -8.816000 & 0.365300 \\\\\n",
      "k & 0.136900 & 0.027100 \\\\\n",
      "l & 3.217700 & 0.098800 \\\\\n",
      "time & 0.232800 & 0.076400 \\\\\n",
      "time_x_k & 0.022100 & 0.005700 \\\\\n",
      "time_x_l & -0.114000 & 0.020700 \\\\\n",
      "crisis & -1.702100 & 0.215600 \\\\\n",
      "\\end{tabular}\n",
      "\n"
     ]
    }
   ],
   "source": [
    "oil['crisis'] = 0\n",
    "oil.loc[(oil.year == 2008) | (oil.year == 2009), 'crisis'] = 1\n",
    "\n",
    "X2 = np.array(oil.loc[:, ['const', 'k', 'l', 'time', 'time_x_k', 'time_x_l', 'crisis']])\n",
    "\n",
    "m2_OLS = OLS(y, X2)\n",
    "m2_FE = OLS(y, X2, FE = True, id = oil.okpo)\n",
    "\n",
    "\n",
    "res = pd.DataFrame(m2_OLS.res, index = [0]).T\n",
    "res['est'] = res.index\n",
    "res.index = ['const', 'k', 'l', 'time', 'time_x_k', 'time_x_l', 'crisis']\n",
    "res = res.loc[:, ['est', 0]]\n",
    "res.columns = ['est', 'se']\n",
    "print(res.style.to_latex())"
   ]
  },
  {
   "cell_type": "code",
   "execution_count": 22,
   "id": "af852a66",
   "metadata": {},
   "outputs": [
    {
     "name": "stdout",
     "output_type": "stream",
     "text": [
      "\\begin{tabular}{lrr}\n",
      " & est & se \\\\\n",
      "const & -4.611300 & 3.136100 \\\\\n",
      "k & 0.051400 & 0.034000 \\\\\n",
      "l & 2.500800 & 0.118400 \\\\\n",
      "time & 0.077100 & 0.068700 \\\\\n",
      "time_x_k & 0.030900 & 0.005700 \\\\\n",
      "time_x_l & -0.075900 & 0.017100 \\\\\n",
      "crisis & -0.552100 & 0.157200 \\\\\n",
      "\\end{tabular}\n",
      "\n"
     ]
    }
   ],
   "source": [
    "res = pd.DataFrame(m2_FE.res, index = [0]).T\n",
    "res['est'] = res.index\n",
    "res.index = ['const', 'k', 'l', 'time', 'time_x_k', 'time_x_l', 'crisis']\n",
    "res = res.loc[:, ['est', 0]]\n",
    "res.columns = ['est', 'se']\n",
    "print(res.style.to_latex())"
   ]
  },
  {
   "cell_type": "markdown",
   "id": "5699f4b5",
   "metadata": {},
   "source": [
    "## Olley-Pakes Procedure\n",
    "\n",
    "1. Add investment variable\n",
    "2. Add polynomial expansion of $g(k_{jt}, i_{jt})$. That is \n",
    "$$\n",
    "\\gamma_0 + \\gamma_1 k + \\gamma_2 i + \\gamma_3 k^2 + \\gamma_4 i^2 + \\gamma_5 i\\cdot k\n",
    "$$\n",
    "2. Estimate \n",
    "    $$q_{jt} = \\beta l_{jt} + \\alpha k_{jt} + g(k_{jt}, i_{jt}) + e_{jt}$$ \n",
    "    to obtain \n",
    "    $$\n",
    "    \\widehat{\\beta}, \\widehat{\\phi(k_{jt}, i_{jt})} \\equiv  g(k_{jt}, i_{jt}) + \\mu +   \\alpha k_{jt}$$ \n",
    "    Note that under polynomial expansion \n",
    "    $$\n",
    "    \\widehat{\\phi(k_{jt}, i_{jt})} = \\gamma_0 + \\gamma_1 k + \\gamma_2 i + \\gamma_3 k^2 + \\gamma_4 i^2 + \\gamma_5 i\\cdot k\n",
    "    $$\n",
    "\n"
   ]
  },
  {
   "cell_type": "code",
   "execution_count": 23,
   "id": "c4f740aa",
   "metadata": {},
   "outputs": [],
   "source": [
    "oil['next_k'] = oil.groupby('okpo')['k'].shift(-1)\n",
    "oil['prev_k'] = oil.groupby('okpo')['k'].shift(1)\n",
    "oil['i'] = oil['next_k'] - oil['k']\n",
    "oil.loc[oil.i < 0, 'i'] = 0\n",
    "ord_enc = OrdinalEncoder()\n",
    "oil[\"id\"] = ord_enc.fit_transform(oil[[\"okpo\"]])"
   ]
  },
  {
   "cell_type": "code",
   "execution_count": 24,
   "id": "8e3e6e3b",
   "metadata": {},
   "outputs": [],
   "source": [
    "k = np.array(oil.k)\n",
    "l = np.array(oil.l)\n",
    "y = np.array(oil.q)\n",
    "i = np.array(oil.i)\n",
    "prev_k = np.array(oil.prev_k)\n",
    "id = np.array(oil.id)\n",
    "year = np.array(oil.year)\n",
    "\n",
    "k2, i2, ki = k**2, i**2, k*i\n",
    "const = np.zeros_like(k) + 1"
   ]
  },
  {
   "cell_type": "code",
   "execution_count": 25,
   "id": "da5b3809",
   "metadata": {},
   "outputs": [],
   "source": [
    "class OlleyPakes:\n",
    "    def __init__(self, y, k, l, i, id, year):\n",
    "        k2, i2, ki = k**2, i**2, k*i\n",
    "        const = np.zeros_like(k) + 1\n",
    "        \n",
    "        '''\n",
    "        Delete NAs\n",
    "        '''\n",
    "        DAT = np.stack((y, l, const, k, i, k2, i2, ki, id, year), axis = 1)\n",
    "        DAT = self.dropna(DAT)\n",
    "        self.DAT = DAT\n",
    "        self.l = self.DAT[:, 1]\n",
    "        self.id, self.year = DAT[:, 8], DAT[:, 9] \n",
    "        self.y1, self.X1 = DAT[:, 0], DAT[:, 1:7]\n",
    "\n",
    "        '''\n",
    "        Results from 1st stage\n",
    "        '''\n",
    "        self.beta, self.phi, self.VCOV1 = self.step1(self.X1, self.y1)\n",
    "        self.beta_se = np.sqrt(self.VCOV1[0,0])\n",
    "        \n",
    "        '''\n",
    "        Preparing 2nd stage\n",
    "        '''\n",
    "        # shifting k and phi and droping nas\n",
    "        self.k = DAT[:, 3]\n",
    "        self.const = np.zeros_like(self.k) + 1\n",
    "        self.y2 = self.y1 - self.beta * self.l \n",
    "        \n",
    "        DAT2 = pd.DataFrame(np.stack((self.y2, self.k, self.const, self.phi, self.id, self.year),axis = 1))\n",
    "        DAT2.columns = ['y - bl', 'k', 'const', 'phi', 'id', 'year']\n",
    "        DAT2['prev_k'] = DAT2.groupby('id')['k'].shift(1)\n",
    "        DAT2['prev_phi'] = DAT2.groupby('id')['phi'].shift(1)\n",
    "        DAT2 = DAT2.dropna()\n",
    "\n",
    "        # main coefficient \n",
    "        y2, k = np.array(DAT2['y - bl']), np.array(DAT2.k)\n",
    "        \n",
    "        # polynomial expansion\n",
    "        const = np.zeros_like(k) + 1\n",
    "        prev_phi, prev_k = np.array(DAT2.prev_phi), np.array(DAT2.prev_k)\n",
    "        prev_k2, prev_phi2, prev_phi_k = prev_k**2, prev_phi**2, prev_k * prev_phi        \n",
    "        \n",
    "        # final frame\n",
    "        X2 = np.stack((k, const, prev_k, prev_phi, prev_k2, prev_phi2, prev_phi_k), axis = 1)\n",
    "        \n",
    "        '''\n",
    "        Run 2ns stage\n",
    "        '''\n",
    "        COEF2 = np.linalg.inv(X2.T @ X2) @ X2.T @ y2\n",
    "        \n",
    "        res = y2 - X2 @ COEF2\n",
    "        s2 = (1/(X2.shape[0]-X2.shape[1]))*sum(res**2) \n",
    "        VCOV2 = s2*np.linalg.inv(X2.T @ X2)        \n",
    "        \n",
    "        self.alpha = COEF2[0]\n",
    "        self.alpha_se = np.sqrt(VCOV2[0,0])\n",
    "        est = np.round([self.alpha, self.beta],4)\n",
    "        se = np.round([self.alpha_se, self.beta_se],4)\n",
    "        self.res = dict(zip(est, se))\n",
    "        \n",
    "\n",
    "    def dropna(self,a):\n",
    "        return a[~np.isnan(a).any(axis=1), :]\n",
    "\n",
    "\n",
    "    def step1(self, X, y):\n",
    "        '''\n",
    "        estimate and obtain prev_phi\n",
    "        '''\n",
    "        COEF = np.linalg.inv(X.T @ X) @ X.T @ y\n",
    "        beta = COEF[0]\n",
    "        phi_coef = COEF[1:]\n",
    "        phi_var = X[:, 1:]\n",
    "        phi = phi_var @ phi_coef\n",
    "        res = y - X @ COEF\n",
    "        s2 = (1/(X.shape[0]-X.shape[1]))*sum(res**2) \n",
    "        VCOV = s2*np.linalg.inv(X.T @ X)\n",
    "        return beta, phi, VCOV"
   ]
  },
  {
   "cell_type": "code",
   "execution_count": 26,
   "id": "ac6efb13",
   "metadata": {},
   "outputs": [],
   "source": [
    "y = np.array(oil.q)\n",
    "k = np.array(oil.k)\n",
    "l = np.array(oil.l)\n",
    "i = np.array(oil.i)\n",
    "prev_k = np.array(oil.prev_k)\n",
    "okpo = np.array(oil.okpo)\n",
    "year = np.array(oil.year)"
   ]
  },
  {
   "cell_type": "code",
   "execution_count": 27,
   "id": "79d49fde",
   "metadata": {},
   "outputs": [
    {
     "data": {
      "text/plain": [
       "{0.1715: 0.0449, 2.6689: 0.0614}"
      ]
     },
     "execution_count": 27,
     "metadata": {},
     "output_type": "execute_result"
    }
   ],
   "source": [
    "OP = OlleyPakes(y, k, l, i, id, year)\n",
    "OP.res"
   ]
  },
  {
   "cell_type": "code",
   "execution_count": null,
   "id": "bbd05e73",
   "metadata": {},
   "outputs": [],
   "source": []
  }
 ],
 "metadata": {
  "kernelspec": {
   "display_name": "Python 3.8.13 ('tensorflow_on_mac')",
   "language": "python",
   "name": "python3"
  },
  "language_info": {
   "codemirror_mode": {
    "name": "ipython",
    "version": 3
   },
   "file_extension": ".py",
   "mimetype": "text/x-python",
   "name": "python",
   "nbconvert_exporter": "python",
   "pygments_lexer": "ipython3",
   "version": "3.8.13"
  },
  "vscode": {
   "interpreter": {
    "hash": "766a2dfa3c07378d953c9613fabb40f4d6203ae9c7be041858be35bdf517ece5"
   }
  }
 },
 "nbformat": 4,
 "nbformat_minor": 5
}
