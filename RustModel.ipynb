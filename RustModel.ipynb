{
 "cells": [
  {
   "cell_type": "code",
   "execution_count": 1,
   "id": "7a761eb4",
   "metadata": {},
   "outputs": [],
   "source": [
    "import numpy as np\n",
    "import os\n",
    "import pandas as pd\n",
    "from scipy.optimize import minimize, fixed_point\n",
    "from scipy.stats import norm\n",
    "import random\n",
    "import tqdm\n",
    "from random import choices\n",
    "import itertools\n",
    "import warnings\n",
    "warnings.filterwarnings(\"ignore\")"
   ]
  },
  {
   "cell_type": "markdown",
   "id": "0e4f303d",
   "metadata": {},
   "source": [
    "## Data Preparation"
   ]
  },
  {
   "cell_type": "code",
   "execution_count": 3,
   "id": "5943746f",
   "metadata": {},
   "outputs": [],
   "source": [
    "# load data\n",
    "paths = ['nfxp/dat/g870.asc', # 36 x 15 -- Grumman 1983 \n",
    "         'nfxp/dat/rt50.asc', # 60 x 4 -- Chance 1981\n",
    "         'nfxp/dat/t8h203.asc', # 81 x 48 -- GMC 1979\n",
    "         'nfxp/dat/a530875.asc', # 128 x 37 -- GMC 1975 \n",
    "         'nfxp/dat/a530874.asc', # 137 x 12 -- GMC 1974 (8V)\n",
    "         'nfxp/dat/a452374.asc', # 137 x 10 -- GMC 1974 (6V)\n",
    "         'nfxp/dat/a530872.asc', # 137 x 18 -- GMC 1972 (8V)\n",
    "         'nfxp/dat/a452372.asc' #  137 x 18 -- GMC 1972 (6V)\n",
    "        ]\n",
    "\n",
    "shapes = [(36, 15), (60,4), (81, 48), (128, 37),\n",
    "          (137, 12), (137, 10), (137, 18), (137, 18)]\n",
    "def read_asc(path, shape):\n",
    "    f = np.array(pd.read_table(path, header = None).iloc[:, 0])\n",
    "    return f.reshape(shape, order = 'F')\n",
    "\n",
    "files = []\n",
    "for i in range(len(paths)):\n",
    "    files.append(read_asc(paths[i], shapes[i]))"
   ]
  },
  {
   "cell_type": "code",
   "execution_count": 4,
   "id": "07a4ee58",
   "metadata": {},
   "outputs": [],
   "source": [
    "def discretize(x):\n",
    "    return np.floor(x/5000)"
   ]
  },
  {
   "cell_type": "code",
   "execution_count": 5,
   "id": "2487c77b",
   "metadata": {},
   "outputs": [],
   "source": [
    "def prepare(files):\n",
    "    frames = []\n",
    "    for file in files:\n",
    "        group = []\n",
    "        for i in range(file.shape[1]):\n",
    "            bus = file[:, i]\n",
    "            rep1, rep2 = bus[5], bus[8]\n",
    "            x = bus[11:]\n",
    "            i = np.zeros_like(x)\n",
    "            if len(x[(x >= rep1)*(rep1 > 0)])> 0:\n",
    "                change1 = min(x[(x >= rep1)*(rep1 > 0)])\n",
    "                i[x == change1] = 1\n",
    "            if len(x[(x >= rep2)*(rep2 > 0)]) > 0:\n",
    "                change2 = min(x[(x >= rep2)*(rep2 > 0)])\n",
    "                i[x == change2] = 1\n",
    "            x = discretize(x)\n",
    "            dx = [x[i]-x[i-1] for i in range(1, len(x))]\n",
    "            dx.insert(0, x[0])\n",
    "            df = pd.DataFrame({'x': x, 'dx': dx, 'i': i})\n",
    "            group.append(df)\n",
    "        group = pd.concat(group, axis = 0, ignore_index = True)\n",
    "        frames.append(group)\n",
    "    return frames\n",
    "\n",
    "files = prepare(files)"
   ]
  },
  {
   "cell_type": "code",
   "execution_count": 6,
   "id": "9c65f10a",
   "metadata": {},
   "outputs": [],
   "source": [
    "data = pd.concat(files[:4], axis = 0, ignore_index = True)"
   ]
  },
  {
   "cell_type": "markdown",
   "id": "d21ca68f",
   "metadata": {},
   "source": [
    "## Static Model"
   ]
  },
  {
   "cell_type": "code",
   "execution_count": 7,
   "id": "c42fd114",
   "metadata": {},
   "outputs": [],
   "source": [
    "class Static:\n",
    "    def __init__(self, \n",
    "                 data, cost_type = 'linear',\n",
    "                 scale = 0.001, theta1_init = [0.9], RC_init = 9,\n",
    "                 disp = False, B = 100, boot = True, \n",
    "                 alpha = 0.05):\n",
    "        \n",
    "        self.x, self.i = data.x, data.i\n",
    "        self.cost_type = cost_type\n",
    "        self.scale = scale\n",
    "        self.theta1_init = theta1_init\n",
    "        self.RC_init = RC_init\n",
    "        self.disp = disp\n",
    "        self.boot = boot\n",
    "        self.B = B\n",
    "        self.alpha = alpha\n",
    "        \n",
    "        self.result = self.est_theta(x = self.x, i = self.i)\n",
    "        \n",
    "        if boot: self.result_boot = self.bootstrap()\n",
    "        \n",
    "    def bootstrap(self): # perform bootstrap\n",
    "        print('Performing Bootstrap')\n",
    "        x, i = np.array(self.x), np.array(self.i)\n",
    "        ind = range(len(x)) # indices\n",
    "        result_boot = []\n",
    "        for b in tqdm.trange(self.B):\n",
    "            ind_b = choices(ind, k = len(x)) # choose with replacement\n",
    "            x_b, i_b = x[ind_b], i[ind_b] # take values\n",
    "            result_b = self.est_theta(x = x_b, i = i_b)\n",
    "            result_boot.append(result_b)\n",
    "        print('Bootstrap Completed')\n",
    "        return result_boot\n",
    "\n",
    "    def output(self):\n",
    "        cost_type = self.cost_type\n",
    "        if cost_type == 'linear':\n",
    "            names = ['theta10', 'RC']\n",
    "        if cost_type == 'quadratic':\n",
    "            names = ['theta10', 'theta11', 'RC']\n",
    "        estimates = self.result\n",
    "        output = pd.DataFrame({'params': names, 'est': estimates})\n",
    "        if self.boot:\n",
    "            param = self.result\n",
    "            param_b = self.result_boot\n",
    "            boot_se = []\n",
    "            for k in range(len(param)):\n",
    "                diff = []\n",
    "                for est_b in param_b:\n",
    "                    diff.append(np.abs(param[k] - est_b[k]))\n",
    "                boot_se.append(np.quantile(diff, 1 - self.alpha)/norm.ppf(1 - self.alpha/2))\n",
    "            output['boot_se'] = boot_se\n",
    "        return output\n",
    "        \n",
    "        \n",
    "    def cost(self, theta1):\n",
    "        cost_type = self.cost_type\n",
    "        scale = self.scale\n",
    "        x = np.arange(90)\n",
    "        theta1 = np.array(theta1)\n",
    "        if cost_type == 'linear': return scale* theta1*x\n",
    "        if cost_type == 'quadratic': return scale*(theta1[0]*x + theta1[1]*(x**2))\n",
    "        \n",
    "    def Pi(self, theta1, RC):\n",
    "        denom = 1 + np.exp(RC - self.cost(theta1))\n",
    "        P1 = 1/denom\n",
    "        P0 = 1 - P1\n",
    "        return P0, P1\n",
    "        \n",
    "    def negLL(self, theta, x, i):\n",
    "        theta1 = theta[:-1]\n",
    "        RC = theta[-1]\n",
    "        P0, P1 = self.Pi(theta1, RC)\n",
    "        LL = 0\n",
    "        for t in range(len(x)):\n",
    "            if i[t] == 0: LL += np.log(P0[int(x[t])])\n",
    "            if i[t] == 1: LL += np.log(P1[int(x[t])])\n",
    "        return -LL\n",
    "    \n",
    "    def cost_constr(self, theta):\n",
    "        theta1 = theta[:-1]\n",
    "        RC = theta[-1]\n",
    "        cost_temp = self.cost(theta1)\n",
    "        if (cost_temp >= 0).all() and (RC >= 0): return 0\n",
    "        else                                   : return -1\n",
    "         \n",
    "    def est_theta(self, x, i):\n",
    "        theta_init = []\n",
    "        theta_init.extend(self.theta1_init)\n",
    "        theta_init.append(self.RC_init)\n",
    "        res = minimize(self.negLL, x0 = theta_init, method = 'Nelder-Mead',\n",
    "                      constraints = {'type': 'eq', 'fun': self.cost_constr},\n",
    "                      options = {'disp': self.disp},\n",
    "                      args = (x, i))\n",
    "        return res.x"
   ]
  },
  {
   "cell_type": "code",
   "execution_count": 9,
   "id": "ff0b0ae7",
   "metadata": {},
   "outputs": [
    {
     "name": "stdout",
     "output_type": "stream",
     "text": [
      "Performing Bootstrap\n"
     ]
    },
    {
     "name": "stderr",
     "output_type": "stream",
     "text": [
      "100%|██████████| 100/100 [01:44<00:00,  1.05s/it]"
     ]
    },
    {
     "name": "stdout",
     "output_type": "stream",
     "text": [
      "Bootstrap Completed\n"
     ]
    },
    {
     "name": "stderr",
     "output_type": "stream",
     "text": [
      "\n"
     ]
    }
   ],
   "source": [
    "s_linear = Static(data, cost_type='linear', \n",
    "                  theta1_init=[9], RC_init=200, B=100)"
   ]
  },
  {
   "cell_type": "code",
   "execution_count": 10,
   "id": "26b69603",
   "metadata": {},
   "outputs": [
    {
     "name": "stdout",
     "output_type": "stream",
     "text": [
      "\\begin{tabular}{llrr}\n",
      "\\toprule\n",
      "{} &   params &        est &   boot\\_se \\\\\n",
      "\\midrule\n",
      "0 &  theta10 &  26.270304 &  3.221084 \\\\\n",
      "1 &       RC &   5.590550 &  0.166071 \\\\\n",
      "\\bottomrule\n",
      "\\end{tabular}\n",
      "\n"
     ]
    }
   ],
   "source": [
    "print(s_linear.output().to_latex())"
   ]
  },
  {
   "cell_type": "code",
   "execution_count": 505,
   "id": "85179f05",
   "metadata": {},
   "outputs": [],
   "source": [
    "s_quadratic = Static(data, cost_type = 'quadratic', \n",
    "                    theta1_init=[9, 0.5], RC_init=200, B=100)"
   ]
  },
  {
   "cell_type": "code",
   "execution_count": 503,
   "id": "112cdc2f",
   "metadata": {},
   "outputs": [
    {
     "name": "stdout",
     "output_type": "stream",
     "text": [
      "\\begin{tabular}{llrr}\n",
      "\\toprule\n",
      "{} &   params &       est &     boot\\_se \\\\\n",
      "\\midrule\n",
      "0 &  theta10 &  9.641866 &  202.534683 \\\\\n",
      "1 &  theta11 &  0.099207 &    2.316628 \\\\\n",
      "2 &       RC &  5.108464 &    3.874612 \\\\\n",
      "\\bottomrule\n",
      "\\end{tabular}\n",
      "\n"
     ]
    }
   ],
   "source": [
    "print(s_quadratic.output().to_latex())"
   ]
  },
  {
   "cell_type": "markdown",
   "id": "90dd9ea1",
   "metadata": {},
   "source": [
    "## Dynamic Model"
   ]
  },
  {
   "cell_type": "code",
   "execution_count": 408,
   "id": "62d5257d",
   "metadata": {},
   "outputs": [],
   "source": [
    "class Rust:\n",
    "    \n",
    "    def __init__(self, data,\n",
    "                 beta = 0.9,                     # discount factor\n",
    "                 cost_type = 'linear',           # linear or quadratic\n",
    "                 pi_init = [0.2, 0.5, 0.3],      # initial values for pi (theta3)\n",
    "                 theta1_init = [9],              # initial values for theta1  \n",
    "                 RC_init = 20,                   # initial values for RC\n",
    "                 scale = 0.001,                  # scaling parameter\n",
    "                 B = 2,                          # number of bootstrap samples\n",
    "                 boot = True,                    # whether to perform bootstrap\n",
    "                 disp = False,                   # whether to print messages of optimization\n",
    "                 alpha = 0.05):                  # 1 - alpha confidence level           \n",
    "        self.beta = beta\n",
    "        self.pi_init = pi_init\n",
    "        self.RC_init = RC_init\n",
    "        self.scale = scale\n",
    "        self.B = B\n",
    "        self.boot = boot\n",
    "        self.cost_type = cost_type\n",
    "        self.theta1_init = theta1_init\n",
    "        self.disp = disp\n",
    "        self.alpha = alpha\n",
    "        self.x, self.i, self.dx = np.array(data.x), np.array(data.i), np.array(data.dx)\n",
    "    \n",
    "        self.result = self.est_full(x = self.x, i = self.i, boot = False)\n",
    "        \n",
    "        if boot: self.result_boot = self.bootstrap()\n",
    "        \n",
    "    def output(self):\n",
    "        names = ['pi0', 'pi1', 'pi2']\n",
    "        if len(self.theta1_init) == 1:\n",
    "            names.append('theta10')\n",
    "        if len(self.theta1_init) == 2:\n",
    "            names.extend(['theta10', 'theta11'])\n",
    "        names.append('RC')\n",
    "        pi = self.result[:3]\n",
    "        pi_se = [np.sqrt(p*(1-p)/(len(self.x))) for p in pi]\n",
    "        list_se = pi_se\n",
    "        list_se.extend([np.nan]*(len(self.theta1_init) + 1))\n",
    "        output = {'param': names, 'est': self.result, 'se': list_se}\n",
    "        if self.boot:\n",
    "            param = self.result\n",
    "            param_b = self.result_boot\n",
    "            boot_se = []\n",
    "            for k in range(len(param)):\n",
    "                diff = []\n",
    "                for est_b in param_b:\n",
    "                    diff.append(np.abs(param[k] - est_b[k]))\n",
    "                boot_se.append(np.quantile(diff, 1 - self.alpha)/norm.ppf(1 - self.alpha/2))\n",
    "            output['boot_se'] = boot_se\n",
    "        return pd.DataFrame(output)\n",
    "\n",
    "    def bootstrap(self): # perform bootstrap\n",
    "        print('Performing Bootstrap')\n",
    "        x, i = np.array(self.x), np.array(self.i)\n",
    "        ind = range(len(x)) # indices\n",
    "        result_boot = []\n",
    "        for b in tqdm.trange(self.B):\n",
    "            ind_b = choices(ind, k = len(x)) # choose with replacement\n",
    "            x_b, i_b = x[ind_b], i[ind_b] # take values\n",
    "            result_b = self.est_full(x = x_b, i = i_b, boot = True)\n",
    "            result_boot.append(result_b)\n",
    "        print('Bootstrap Completed')\n",
    "        return result_boot\n",
    "\n",
    "    def update(self, size): \n",
    "        print('Additional Bootstrap')\n",
    "        x, i = np.array(self.x), np.array(self.i)\n",
    "        ind = range(len(x)) # indices\n",
    "        add_boot = []\n",
    "        for b in tqdm.trange(size):\n",
    "            ind_b = choices(ind, k = len(x)) # choose with replacement\n",
    "            x_b, i_b = x[ind_b], i[ind_b] # take values\n",
    "            add_b = self.est_full(x = x_b, i = i_b, boot = True)\n",
    "            add_boot.append(add_b)\n",
    "        self.result_boot.extend(add_boot)\n",
    "        return print('Additional Bootstrap Completed')\n",
    "        \n",
    "    def negLL1(self, pi, x):\n",
    "        dx = [x[t]-x[t-1] for t in range(1, len(x))]\n",
    "        dx.insert(0, x[0])\n",
    "        pi0, pi1, pi2 = pi\n",
    "        LL = 0\n",
    "        for t in range(len(dx)):\n",
    "            if dx[t] == 0: LL += np.log(pi0)\n",
    "            if dx[t] == 1: LL += np.log(pi1)\n",
    "            if dx[t] == 2: LL += np.log(pi2)\n",
    "        return -LL\n",
    "        \n",
    "    def est_pi(self, x):\n",
    "        pi_init = self.pi_init\n",
    "        res = minimize(self.negLL1, x0 = pi_init, args = x,\n",
    "                       constraints = [{'type': 'eq', 'fun': lambda x: 1 - sum(x)},\n",
    "                                      {'type': 'ineq', 'fun': lambda x: x}],\n",
    "                       options = {'disp': self.disp})\n",
    "        return res.x\n",
    "        \n",
    "    def transition_matrix(self, pi):\n",
    "        pi0, pi1, pi2 = pi # use values calculated from \n",
    "        P = np.zeros(shape = (90, 90))\n",
    "        for i in range(90):\n",
    "            P[i,i] = pi0\n",
    "        for i in range(89):\n",
    "            P[i, i+1] = pi1\n",
    "        for i in range(88):\n",
    "            P[i, i+2] = pi2\n",
    "        P[89, 89] = 1\n",
    "        P[88, 89] = 1 - pi0\n",
    "        return P\n",
    "    \n",
    "    def cost(self, theta1):\n",
    "        cost_type = self.cost_type\n",
    "        scale = self.scale\n",
    "        x = np.arange(90)\n",
    "        theta1 = np.array(theta1)\n",
    "        if cost_type == 'linear': return scale* theta1*x\n",
    "        if cost_type == 'quadratic': return scale*(theta1[0]*x + theta1[1]*np.power(x,2))\n",
    "\n",
    "    def contraction(self, EV, theta1, RC, pi):\n",
    "        beta = self.beta\n",
    "        P = self.transition_matrix(pi)\n",
    "        cost = self.cost(theta1)\n",
    "        return P @ np.log(np.exp(-RC + beta*EV[0]) + np.exp(-cost + beta*EV))\n",
    "    \n",
    "    def est_EV(self, theta1, RC, pi):\n",
    "        EV_init = np.ones(90)\n",
    "        EV = fixed_point(self.contraction, x0 = EV_init, maxiter = 50000,\n",
    "                    args = (theta1, RC, pi),\n",
    "                    method='iteration')\n",
    "        return EV\n",
    "    \n",
    "    def Pi(self, theta1, RC, pi):\n",
    "        beta = self.beta\n",
    "        EV = self.est_EV(theta1, RC, pi)\n",
    "        denom = np.exp(-self.cost(theta1) + beta*EV) + np.exp(-RC + beta*EV[0])\n",
    "        P1 =  np.exp(-self.cost(theta1) + beta*EV)/denom\n",
    "        P0 = 1 - P1\n",
    "        return P1, P0\n",
    "    \n",
    "    def negLL2(self, theta, x, i, pi):\n",
    "        theta1 = theta[:-1]\n",
    "        RC = theta[-1]\n",
    "        P0, P1 = self.Pi(theta1, RC, pi)\n",
    "        LL = 0\n",
    "        for t in range(len(x)):\n",
    "            if i[t] == 0: LL += np.log(P0[int(x[t])])\n",
    "            if i[t] == 1: LL += np.log(P1[int(x[t])])\n",
    "        return -LL\n",
    "    \n",
    "    def est_theta(self, x, i, pi):\n",
    "        theta_init = []\n",
    "        theta_init.extend(list(self.theta1_init))\n",
    "        theta_init.append(self.RC_init)\n",
    "        res = minimize(self.negLL2, x0 = theta_init, args = (x,i, pi),\n",
    "                       options = {'disp': self.disp})\n",
    "        del theta_init\n",
    "        return res.x\n",
    "    \n",
    "    def negLLF(self, gamma, x, i):\n",
    "        # get parameters\n",
    "        pi, theta1, RC = gamma[:3], gamma[3:-1], gamma[-1] \n",
    "        pi0, pi1, pi2 = pi\n",
    "        \n",
    "        # get changes in x\n",
    "        dx = [x[t]-x[t-1] for t in range(1, len(x))]\n",
    "        dx.insert(0, x[0])\n",
    "        \n",
    "        # get P0, P1\n",
    "        P0, P1 = self.Pi(theta1, RC, pi)\n",
    "        \n",
    "        # get LL\n",
    "        LL = 0     \n",
    "        for t in range(len(dx)):\n",
    "            if i[t] == 0:\n",
    "                if dx[t] == 0: LL += np.log(pi0) + np.log(P0[int(x[t])])\n",
    "                if dx[t] == 1: LL += np.log(pi1) + np.log(P0[int(x[t])])\n",
    "                if dx[t] == 2: LL += np.log(pi2) + np.log(P0[int(x[t])])\n",
    "            if i[t] == 1:\n",
    "                if dx[t] == 0: LL += np.log(pi0) + np.log(P1[int(x[t])])\n",
    "                if dx[t] == 1: LL += np.log(pi1) + np.log(P1[int(x[t])])\n",
    "                if dx[t] == 2: LL += np.log(pi2) + np.log(P1[int(x[t])])\n",
    "        return -LL\n",
    "    \n",
    "    def cost_constr(self, gamma): # constraint for cost >= 0\n",
    "        theta1 = gamma[3:-1]\n",
    "        cost_temp = self.cost(theta1)\n",
    "        if (cost_temp >= 0).all() == True: return 0\n",
    "        else                             : return -1\n",
    "        \n",
    "    def est_full(self, x, i, boot):\n",
    "        pi_init = self.est_pi(x) # estimate stage1\n",
    "        if boot == False: print('Estimated Stage 1')\n",
    "        theta_init = self.est_theta(x, i, pi_init) # estimate stage2\n",
    "        if boot == False: print('Estimated Stage 2')\n",
    "        list_init = []\n",
    "        list_init.extend(list(pi_init))\n",
    "        list_init.extend(list(theta_init))\n",
    "        res = minimize(self.negLLF, x0 = list_init, args = (x,i),\n",
    "                       constraints = [{'type': 'eq', 'fun': lambda x: 1 - sum(x[:3])},\n",
    "                                     {'type': 'ineq', 'fun': lambda x: x[:3]},\n",
    "                                     {'type': 'eq', 'fun': self.cost_constr}],\n",
    "                       options = {'disp': self.disp})\n",
    "        if boot == False: print('Estimated Full LL')\n",
    "        del pi_init\n",
    "        del theta_init\n",
    "        del list_init\n",
    "        return res.x"
   ]
  },
  {
   "cell_type": "code",
   "execution_count": 412,
   "id": "52e07131",
   "metadata": {},
   "outputs": [
    {
     "name": "stdout",
     "output_type": "stream",
     "text": [
      "Estimated Stage 1\n",
      "Estimated Stage 2\n",
      "Estimated Full LL\n",
      "Performing Bootstrap\n"
     ]
    },
    {
     "name": "stderr",
     "output_type": "stream",
     "text": [
      "100%|█████████████████████████████████████████| 250/250 [15:34<00:00,  3.74s/it]"
     ]
    },
    {
     "name": "stdout",
     "output_type": "stream",
     "text": [
      "Bootstrap Completed\n"
     ]
    },
    {
     "name": "stderr",
     "output_type": "stream",
     "text": [
      "\n"
     ]
    }
   ],
   "source": [
    "m_linear = Rust(data, boot = True, disp = False, B = 250,\n",
    "                cost_type = 'linear',\n",
    "                theta1_init = [9])"
   ]
  },
  {
   "cell_type": "code",
   "execution_count": 414,
   "id": "38bbd0a0",
   "metadata": {},
   "outputs": [
    {
     "name": "stdout",
     "output_type": "stream",
     "text": [
      "Additional Bootstrap\n"
     ]
    },
    {
     "name": "stderr",
     "output_type": "stream",
     "text": [
      "100%|█████████████████████████████████████████| 250/250 [15:56<00:00,  3.83s/it]"
     ]
    },
    {
     "name": "stdout",
     "output_type": "stream",
     "text": [
      "Additional Bootstrap Completed\n"
     ]
    },
    {
     "name": "stderr",
     "output_type": "stream",
     "text": [
      "\n"
     ]
    }
   ],
   "source": [
    "m_linear.update(250)"
   ]
  },
  {
   "cell_type": "code",
   "execution_count": 420,
   "id": "6c11caab",
   "metadata": {},
   "outputs": [
    {
     "name": "stdout",
     "output_type": "stream",
     "text": [
      "\\begin{tabular}{llrrr}\n",
      "\\toprule\n",
      "{} &    param &       est &        se &   boot\\_se \\\\\n",
      "\\midrule\n",
      "0 &      pi0 &  0.351109 &  0.005252 &  0.029531 \\\\\n",
      "1 &      pi1 &  0.637367 &  0.005290 &  0.177730 \\\\\n",
      "2 &      pi2 &  0.011524 &  0.001174 &  0.184370 \\\\\n",
      "3 &  theta10 &  3.200837 &       NaN &  0.410856 \\\\\n",
      "4 &       RC &  5.721047 &       NaN &  0.193570 \\\\\n",
      "\\bottomrule\n",
      "\\end{tabular}\n",
      "\n"
     ]
    }
   ],
   "source": [
    "print(m_linear.output().to_latex())"
   ]
  },
  {
   "cell_type": "code",
   "execution_count": 418,
   "id": "89e2bd4a",
   "metadata": {},
   "outputs": [
    {
     "name": "stdout",
     "output_type": "stream",
     "text": [
      "Estimated Stage 1\n",
      "Estimated Stage 2\n",
      "Estimated Full LL\n",
      "Performing Bootstrap\n"
     ]
    },
    {
     "name": "stderr",
     "output_type": "stream",
     "text": [
      "100%|█████████████████████████████████████████| 250/250 [26:39<00:00,  6.40s/it]"
     ]
    },
    {
     "name": "stdout",
     "output_type": "stream",
     "text": [
      "Bootstrap Completed\n"
     ]
    },
    {
     "name": "stderr",
     "output_type": "stream",
     "text": [
      "\n"
     ]
    }
   ],
   "source": [
    "m_quadratic = Rust(data, boot = True, disp = False, B = 250,\n",
    "                   cost_type = 'quadratic', \n",
    "                   theta1_init = [36, -0.5])"
   ]
  },
  {
   "cell_type": "code",
   "execution_count": 419,
   "id": "8cb59532",
   "metadata": {},
   "outputs": [
    {
     "name": "stdout",
     "output_type": "stream",
     "text": [
      "\\begin{tabular}{llrrr}\n",
      "\\toprule\n",
      "{} &    param &        est &        se &   boot\\_se \\\\\n",
      "\\midrule\n",
      "0 &      pi0 &   0.351109 &  0.005252 &  0.028056 \\\\\n",
      "1 &      pi1 &   0.637367 &  0.005290 &  0.176798 \\\\\n",
      "2 &      pi2 &   0.011524 &  0.001174 &  0.184577 \\\\\n",
      "3 &  theta10 &  36.807117 &       NaN &  8.656974 \\\\\n",
      "4 &  theta11 &  -0.355080 &       NaN &  0.078795 \\\\\n",
      "5 &       RC &  10.964093 &       NaN &  1.102520 \\\\\n",
      "\\bottomrule\n",
      "\\end{tabular}\n",
      "\n"
     ]
    }
   ],
   "source": [
    "print(m_quadratic.output().to_latex())"
   ]
  },
  {
   "cell_type": "markdown",
   "id": "9b750a4c",
   "metadata": {},
   "source": [
    "## Value function"
   ]
  },
  {
   "cell_type": "code",
   "execution_count": 506,
   "id": "df68b02e",
   "metadata": {},
   "outputs": [],
   "source": [
    "from matplotlib import pyplot as plt"
   ]
  },
  {
   "cell_type": "code",
   "execution_count": 510,
   "id": "d2aaf285",
   "metadata": {},
   "outputs": [],
   "source": [
    "pi = m_linear.result[:3]\n",
    "theta1 = m_linear.result[3:-1]\n",
    "RC = m_linear.result[-1]\n",
    "V_linear = m_linear.est_EV(theta1, RC, pi)"
   ]
  },
  {
   "cell_type": "code",
   "execution_count": 511,
   "id": "ab149569",
   "metadata": {},
   "outputs": [],
   "source": [
    "pi = m_quadratic.result[:3]\n",
    "theta1 = m_quadratic.result[3:-1]\n",
    "RC = m_quadratic.result[-1]\n",
    "V_quadratic = m_quadratic.est_EV(theta1, RC, pi)"
   ]
  },
  {
   "cell_type": "code",
   "execution_count": 515,
   "id": "51c14d6f",
   "metadata": {},
   "outputs": [
    {
     "data": {
      "text/plain": [
       "<matplotlib.legend.Legend at 0x282590340>"
      ]
     },
     "execution_count": 515,
     "metadata": {},
     "output_type": "execute_result"
    },
    {
     "data": {
      "image/png": "[encoded data removed]",
      "text/plain": [
       "<Figure size 432x288 with 1 Axes>"
      ]
     },
     "metadata": {
      "needs_background": "light"
     },
     "output_type": "display_data"
    }
   ],
   "source": [
    "plt.plot(np.arange(90), V_linear, label = 'linear')\n",
    "plt.plot(np.arange(90), V_quadratic, label = 'quadratic')\n",
    "plt.legend()"
   ]
  },
  {
   "cell_type": "code",
   "execution_count": null,
   "id": "46e18b70",
   "metadata": {},
   "outputs": [],
   "source": []
  }
 ],
 "metadata": {
  "kernelspec": {
   "display_name": "Python 3.8.13 ('tensorflow_on_mac')",
   "language": "python",
   "name": "python3"
  },
  "language_info": {
   "codemirror_mode": {
    "name": "ipython",
    "version": 3
   },
   "file_extension": ".py",
   "mimetype": "text/x-python",
   "name": "python",
   "nbconvert_exporter": "python",
   "pygments_lexer": "ipython3",
   "version": "3.8.13"
  },
  "vscode": {
   "interpreter": {
    "hash": "766a2dfa3c07378d953c9613fabb40f4d6203ae9c7be041858be35bdf517ece5"
   }
  }
 },
 "nbformat": 4,
 "nbformat_minor": 5
}
