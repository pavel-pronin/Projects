{
 "cells": [
  {
   "cell_type": "code",
   "execution_count": 1,
   "metadata": {},
   "outputs": [
    {
     "name": "stderr",
     "output_type": "stream",
     "text": [
      "[nltk_data] Downloading package omw-1.4 to\n",
      "[nltk_data]     /Users/pavelpronin/nltk_data...\n",
      "[nltk_data]   Package omw-1.4 is already up-to-date!\n"
     ]
    },
    {
     "name": "stdout",
     "output_type": "stream",
     "text": [
      "[nltk_data] Downloading package brown to\n",
      "[nltk_data]     /Users/pavelpronin/nltk_data...\n",
      "[nltk_data]   Package brown is already up-to-date!\n",
      "[nltk_data] Downloading package punkt to\n",
      "[nltk_data]     /Users/pavelpronin/nltk_data...\n",
      "[nltk_data]   Package punkt is already up-to-date!\n",
      "[nltk_data] Downloading package wordnet to\n",
      "[nltk_data]     /Users/pavelpronin/nltk_data...\n",
      "[nltk_data]   Package wordnet is already up-to-date!\n",
      "[nltk_data] Downloading package averaged_perceptron_tagger to\n",
      "[nltk_data]     /Users/pavelpronin/nltk_data...\n",
      "[nltk_data]   Package averaged_perceptron_tagger is already up-to-\n",
      "[nltk_data]       date!\n",
      "[nltk_data] Downloading package conll2000 to\n",
      "[nltk_data]     /Users/pavelpronin/nltk_data...\n",
      "[nltk_data]   Package conll2000 is already up-to-date!\n",
      "[nltk_data] Downloading package movie_reviews to\n",
      "[nltk_data]     /Users/pavelpronin/nltk_data...\n",
      "[nltk_data]   Package movie_reviews is already up-to-date!\n",
      "Finished.\n"
     ]
    }
   ],
   "source": [
    "import pandas as pd\n",
    "import numpy as np\n",
    "%config InlineBackend.figure_format='retina'\n",
    "import matplotlib.pyplot as plt\n",
    "import scipy\n",
    "\n",
    "# text operations\n",
    "import string\n",
    "import nltk\n",
    "from nltk.tokenize import word_tokenize\n",
    "from nltk.stem import WordNetLemmatizer\n",
    "from gensim.models import Word2Vec\n",
    "from sklearn.feature_extraction.text import TfidfVectorizer, CountVectorizer, TfidfTransformer\n",
    "\n",
    "# preprocessing\n",
    "import re\n",
    "nltk.download('omw-1.4') # necessary for pattern library\n",
    "!python -m textblob.download_corpora\n",
    "from textblob import TextBlob, Word \n",
    "\n",
    "# basics\n",
    "from sklearn.model_selection import train_test_split\n",
    "from sklearn.linear_model import LinearRegression\n",
    "from sklearn.metrics import mean_absolute_error\n",
    "from sklearn.pipeline import Pipeline\n",
    "import tqdm"
   ]
  },
  {
   "cell_type": "code",
   "execution_count": 2,
   "metadata": {},
   "outputs": [],
   "source": [
    "PATH_TO_TRAIN_DATA = 'train.csv'\n",
    "df = pd.read_csv(PATH_TO_TRAIN_DATA)"
   ]
  },
  {
   "cell_type": "markdown",
   "metadata": {},
   "source": [
    "# Preprocessing\n",
    "\n",
    "I use the following **preprocessing routine**:\n",
    "\n",
    "1. Check alphanumeric: \"from7pm\" $\\mapsto$ \"from 7 pm\"\n",
    "2. Convert numbers: \"7\" $\\mapsto$ \"\\<num\\>\"\n",
    "3. Filter part-of-speech (POS) tags\n",
    "    - I drop  'PRP\\\\$', 'PRP', 'TO', 'DT', 'WDT', 'WP', 'WP\\\\$', 'WRB', 'LS', 'EX', 'CC', 'IN'. See [here](https://www.geeksforgeeks.org/python-part-of-speech-tagging-using-textblob/) for explanation of tags\n",
    "4. Singularize nouns and adjectives: \"cars\" $\\mapsto$ \"car\"\n",
    "5. Lemmatize verbs: \"is\" $\\mapsto$ \"be\"\n",
    "6. Correct spelling when confident\n",
    "7. Convert to lowercase\n",
    "8. Extract sentiments based on adjectives, sentiment is a value in [-1,1]\n",
    "    - We can add it as an extra feature to the data\n",
    "9. Delete all \"be\"s in sentences\n",
    "10. Delete all single-letter words from a sentence, e.g. \"t\", \"s\""
   ]
  },
  {
   "cell_type": "code",
   "execution_count": 3,
   "metadata": {},
   "outputs": [],
   "source": [
    "import pattern.en as pattern_en\n",
    "\n",
    "def pattern_stopiteration_workaround():\n",
    "    \"\"\"\n",
    "    for some reason pattern library fails during first run of any function in python 3.7+\n",
    "    See: https://github.com/clips/pattern/issues/295\n",
    "    \"\"\"\n",
    "    try:\n",
    "        pattern_en.lexeme('gave')\n",
    "        pattern_en.suggest('gave')\n",
    "        pattern_en.tag('gave')\n",
    "        pattern_en.singularize('gave')\n",
    "    except:\n",
    "        pass\n",
    "    \n",
    "for i in range(5):\n",
    "    pattern_stopiteration_workaround()"
   ]
  },
  {
   "cell_type": "code",
   "execution_count": 4,
   "metadata": {},
   "outputs": [],
   "source": [
    "def correct_alnum(sentence):\n",
    "    \"\"\"\n",
    "    Correct alphanumeric tokens (e.g. from7pm -> from 7 pm)\n",
    "    \"\"\"\n",
    "    tokens = []\n",
    "    for word in sentence.split(\" \"):\n",
    "        if Word(word).isalnum():\n",
    "            tokens.extend(re.findall(r\"[^\\W\\d_]+|\\d+\", word))\n",
    "        else:\n",
    "            tokens.append(word)\n",
    "    return \" \".join(tokens)\n",
    "\n",
    "def convert_nums(sentence):\n",
    "    \"\"\"\n",
    "    Convert nums to <num> tag\n",
    "    \"\"\"\n",
    "    tokens = [x[0] if x[1] != \"CD\" else \"<num>\" for x in pattern_en.tag(sentence)]\n",
    "    return \" \".join(tokens)\n",
    "\n",
    "def singularize_sentence(sentence):\n",
    "    \"\"\"  \n",
    "    Singularize nouns and adjectives\n",
    "    \"\"\"\n",
    "    sentence = \" \".join([pattern_en.singularize(x[0], pos = \"NOUN\") if \"NN\" in x[1] else x[0] for x in pattern_en.tag(sentence)])\n",
    "    sentence = \" \".join([pattern_en.singularize(x[0], pos = \"ADJECTIVE\") if \"JJ\" in x[1] else x[0] for x in pattern_en.tag(sentence)])\n",
    "    return sentence\n",
    "\n",
    "def filter_tags(sentence):\n",
    "    \"\"\"\n",
    "    Filter tags that are irrelavant\n",
    "    \"\"\"\n",
    "    bad_tags = ['PRP$', 'PRP', 'TO', 'DT', 'WDT', 'WP', \n",
    "                'WP$', 'WRB', 'LS', 'EX', 'CC', 'IN'] \n",
    "    sentence = \" \".join([x[0] for x in pattern_en.tag(sentence) if x[1] not in bad_tags or x[0] == \"no\"])\n",
    "    return sentence\n",
    "\n",
    "def lemmatizer(sentence):\n",
    "    \"\"\"\n",
    "    Lemmatize verbs\n",
    "    \"\"\"\n",
    "    sentence = \" \".join([pattern_en.lemma(x[0]) if \"VB\" in x[1] else x[0] for x in pattern_en.tag(sentence)])\n",
    "    return sentence\n",
    "\n",
    "def spelling_corrector(sentence, threshold):\n",
    "    \"\"\"\n",
    "    suggest() gives suggested corrections for each word fo the form:\n",
    "        * [(correction1, probability), (correction2, probability), ...]\n",
    "    Approach:\n",
    "        * apply correction with highest probability if probability > threshold\n",
    "    \"\"\"\n",
    "    result = []\n",
    "    for x in sentence.split(\" \"):\n",
    "        suggestion = pattern_en.suggest(x)[0]\n",
    "        if suggestion[1] >= threshold:\n",
    "            result.append(suggestion[0])\n",
    "        else:\n",
    "            result.append(x)\n",
    "    return \" \".join(result)\n",
    "\n",
    "def extract_sentiment(sentence):\n",
    "    \"\"\"  \n",
    "    pattern computes sentiments based on adjectives in the sentence\n",
    "    \"\"\"\n",
    "    return pattern_en.sentiment(example)[0]\n",
    "\n",
    "def delete_be(sentence):\n",
    "    \"\"\"\n",
    "    delete all \"be\"s from sentences\n",
    "    \"\"\"\n",
    "    sentence = \" \".join([x for x in sentence.split(\" \") if x != \"be\"])\n",
    "    return sentence\n",
    "\n",
    "def delete_single(sentence):\n",
    "    \"\"\"\n",
    "    delete all single tokens from sentences\n",
    "    \"\"\"\n",
    "    return \" \".join([x for x in sentence.split(\" \") if len(x) > 1])"
   ]
  },
  {
   "cell_type": "code",
   "execution_count": 5,
   "metadata": {},
   "outputs": [],
   "source": [
    "def preprocess_one_sentence(sentence):\n",
    "    t = 0.8 # threshold of confidence for spelling correction\n",
    "    sentence = sentence.strip()\n",
    "    if len(sentence) == 0: return ['<pad>'], 0    # check empty \n",
    "    sentence = correct_alnum(sentence)            # work with alnums\n",
    "    sentence = convert_nums(sentence)             # convert digits to <num>\n",
    "    sentence = filter_tags(sentence)              # filter irrelevant tags\n",
    "    sentence = singularize_sentence(sentence)     # singularise nouns and adjectives\n",
    "    sentence = lemmatizer(sentence)               # convert verbs to base form\n",
    "    sentence = spelling_corrector(sentence, t)    # correct spelling\n",
    "    sentence = sentence.lower()                   # lowercase\n",
    "    sentiment = extract_sentiment(sentence)       # extract sentiment\n",
    "    sentence = delete_be(sentence)                # delete be\n",
    "    sentence = delete_single(sentence)            # correct single letter tokens\n",
    "    if len(sentence) == 0: return ['<pad>'], 0    # check empty\n",
    "    return sentence, sentiment"
   ]
  },
  {
   "cell_type": "code",
   "execution_count": 6,
   "metadata": {},
   "outputs": [
    {
     "name": "stdout",
     "output_type": "stream",
     "text": [
      "Oringinal: It sounds minor but at breakfast my wife ordered some poached eggs they took 15 minutes to arrive So her breakfast was cold she insisted I eat mine as it would get cold and the poached eggs were covered in pepper according to the waitress to make them look nice Ok if you like pepper unfortunately my wife doesn t\n",
      "\n",
      "Preprocessed: sound minor breakfast wife order poach egg take numb minute arrive breakfast cold insisted eat mine would get cold pouched egg covered pepper accord waitres make look nice like pepper unfortunately wife doesn\n"
     ]
    }
   ],
   "source": [
    "example = df['negative'][6500].strip()\n",
    "print(f\"Oringinal: {example}\\n\")\n",
    "print(f\"Preprocessed: {preprocess_one_sentence(example)[0]}\")"
   ]
  },
  {
   "cell_type": "code",
   "execution_count": 7,
   "metadata": {},
   "outputs": [],
   "source": [
    "# original data\n",
    "df['positiveV0'] = [x.lower().strip() for x in df['positive']]\n",
    "df['negativeV0'] = [x.lower().strip() for x in df['negative']]"
   ]
  },
  {
   "cell_type": "code",
   "execution_count": 8,
   "metadata": {},
   "outputs": [],
   "source": [
    "import multiprocess as mp"
   ]
  },
  {
   "cell_type": "code",
   "execution_count": 9,
   "metadata": {},
   "outputs": [],
   "source": [
    "def preprocess_sentences(sentences, do_mp):\n",
    "    new_sentences = []\n",
    "    sentiments = [] \n",
    "    if do_mp:\n",
    "        with mp.Pool(processes=10) as pool:\n",
    "            for sentence, sentiment in tqdm.tqdm(pool.imap(preprocess_one_sentence, sentences), \n",
    "                                                 total = len(sentences)):\n",
    "                new_sentences.append(sentence)\n",
    "                sentiments.append(sentiment)\n",
    "    else:\n",
    "        for sentence, sentiment in tqdm.tqdm(map(preprocess_one_sentence, sentences), \n",
    "                                             total = len(sentences)):\n",
    "            new_sentences.append(sentence)\n",
    "            sentiments.append(sentiment)\n",
    "    return new_sentences, sentiments"
   ]
  },
  {
   "cell_type": "code",
   "execution_count": 10,
   "metadata": {},
   "outputs": [
    {
     "name": "stderr",
     "output_type": "stream",
     "text": [
      "100%|██████████████████████████████████| 100000/100000 [11:26<00:00, 145.74it/s]\n",
      "100%|██████████████████████████████████| 100000/100000 [11:06<00:00, 150.05it/s]\n"
     ]
    }
   ],
   "source": [
    "# Takes around 10-12 minutes with 10 parallel processes for one column\n",
    "# Total time around 20-24 minutes\n",
    "# negativeV1, neg_sentiment = preprocess_sentences(df['negative'], do_mp = True)\n",
    "# positiveV1, pos_sentiment = preprocess_sentences(df['positive'], do_mp = True)"
   ]
  },
  {
   "cell_type": "code",
   "execution_count": 10,
   "metadata": {},
   "outputs": [],
   "source": [
    "# preprocessed = pd.DataFrame({'review_id': df['review_id'],\n",
    "#                 'negativeV1': negativeV1, 'positiveV1': positiveV1,\n",
    "#                 'neg_sentiment': neg_sentiment, 'pos_sentiment': pos_sentiment})\n",
    "# preprocessed.to_csv('preprocessed.csv', index=False)\n",
    "preprocessed = pd.read_csv('preprocessed.csv')\n",
    "df = df.merge(preprocessed, on = 'review_id')"
   ]
  },
  {
   "cell_type": "markdown",
   "metadata": {},
   "source": [
    "**Compare versions**"
   ]
  },
  {
   "cell_type": "code",
   "execution_count": 11,
   "metadata": {},
   "outputs": [],
   "source": [
    "def get_size(sentences):\n",
    "    wrds = [token for sentence in sentences for token in sentence.split(' ')]\n",
    "    print(f\"Total tokens: {len(wrds)}\")\n",
    "    print(f\"Unique tokens: {len(set(wrds))}\\n\")\n",
    "    pass"
   ]
  },
  {
   "cell_type": "code",
   "execution_count": 12,
   "metadata": {},
   "outputs": [
    {
     "name": "stdout",
     "output_type": "stream",
     "text": [
      "----Positive: No preprocessing----\n",
      "Total tokens: 1647621\n",
      "Unique tokens: 21797\n",
      "\n",
      "----Positive: Preprocessing----\n",
      "Total tokens: 1050618\n",
      "Unique tokens: 14895\n",
      "\n",
      "----Negative: No preprocessing----\n",
      "Total tokens: 1792699\n",
      "Unique tokens: 24517\n",
      "\n",
      "----Negative: Preprocessing----\n",
      "Total tokens: 1058280\n",
      "Unique tokens: 15444\n",
      "\n"
     ]
    }
   ],
   "source": [
    "print(\"----Positive: No preprocessing----\")\n",
    "get_size(df['positiveV0'])\n",
    "print(\"----Positive: Preprocessing----\")\n",
    "get_size(df['positiveV1'])\n",
    "print(\"----Negative: No preprocessing----\")\n",
    "get_size(df['negativeV0'])\n",
    "print(\"----Negative: Preprocessing----\")\n",
    "get_size(df['negativeV1'])"
   ]
  },
  {
   "cell_type": "code",
   "execution_count": 13,
   "metadata": {},
   "outputs": [],
   "source": [
    "df['negative_tokensV0'] = [x.split(' ') for x in df['negativeV0']]\n",
    "df['negative_tokensV1'] = [x.split(' ') for x in df['negativeV1']]\n",
    "\n",
    "df['positive_tokensV0'] = [x.split(' ') for x in df['positiveV0']]\n",
    "df['positive_tokensV1'] = [x.split(' ') for x in df['positiveV1']]"
   ]
  },
  {
   "cell_type": "markdown",
   "metadata": {},
   "source": [
    "## Subsampling\n",
    "\n",
    "Probability to keep the word is given by\n",
    "    $$\n",
    "    P(w_i) = 1 - \\sqrt{ \\frac{t}{f(w_i)}}\n",
    "    $$\n",
    "where $f(w_i)$ is the frequency of the word $w_i$ and $t$ is some threshold parameter. \n",
    "\n",
    "- I apply subsampling only to tokens without preprocessing\n",
    "\n"
   ]
  },
  {
   "cell_type": "code",
   "execution_count": 14,
   "metadata": {},
   "outputs": [],
   "source": [
    "from collections import Counter"
   ]
  },
  {
   "cell_type": "code",
   "execution_count": 15,
   "metadata": {},
   "outputs": [],
   "source": [
    "def get_subsample(sequences, t):\n",
    "    wrds= [x for sequence in sequences for x in sequence]\n",
    "    freq_voc = Counter(wrds)\n",
    "    keep_voc = {}\n",
    "    base_seed = 1412 # seed for reproducibility\n",
    "    i = 0\n",
    "    for word in freq_voc:\n",
    "        freq_voc[word] = freq_voc[word]/len(wrds)\n",
    "        keep_prob =  np.sqrt(t/freq_voc[word])\n",
    "        np.random.seed(base_seed + i) \n",
    "        keep_voc[word] = np.random.random() < keep_prob\n",
    "        i = +1\n",
    "        \n",
    "    print(f\"Initial Vocabulary Size: {len(keep_voc.keys())}\")\n",
    "    print(f\"New Vocabulary Size: {np.sum([x[1] for x in keep_voc.items()])}\\n\")\n",
    "\n",
    "    new_seq = [[x for x in sequence if keep_voc[x]] for sequence in sequences]\n",
    "    new_seq_corr = []\n",
    "    for seq in new_seq:\n",
    "        if len(seq) > 0:\n",
    "            new_seq_corr.append(seq)\n",
    "        else:\n",
    "            new_seq_corr.append(['<pad>'])\n",
    "    return new_seq_corr"
   ]
  },
  {
   "cell_type": "code",
   "execution_count": 16,
   "metadata": {},
   "outputs": [
    {
     "name": "stdout",
     "output_type": "stream",
     "text": [
      "Initial Vocabulary Size: 24517\n",
      "New Vocabulary Size: 22191\n",
      "\n",
      "Initial Vocabulary Size: 21797\n",
      "New Vocabulary Size: 19834\n",
      "\n"
     ]
    }
   ],
   "source": [
    "# negative tokens\n",
    "df['negative_tokensV0_sub'] = get_subsample(df['negative_tokensV0'], 1e-5)\n",
    "df['positive_tokensV0_sub'] = get_subsample(df['positive_tokensV0'], 1e-5)\n",
    "\n",
    "df['negativeV0_sub'] = [' '.join(x) for x in df['negative_tokensV0_sub']]\n",
    "df['positiveV0_sub'] = [' '.join(x) for x in df['positive_tokensV0_sub']]"
   ]
  },
  {
   "cell_type": "markdown",
   "metadata": {},
   "source": [
    "## Train-Test Split"
   ]
  },
  {
   "cell_type": "code",
   "execution_count": 17,
   "metadata": {},
   "outputs": [],
   "source": [
    "df_train, df_test = train_test_split(df, random_state=1412) # <- для локального тестирования\n",
    "df_train.reset_index(inplace=True, drop=True)\n",
    "df_test.reset_index(inplace=True, drop=True)"
   ]
  },
  {
   "cell_type": "markdown",
   "metadata": {},
   "source": [
    "# TF-IDF + Linear Regression"
   ]
  },
  {
   "cell_type": "code",
   "execution_count": 18,
   "metadata": {},
   "outputs": [],
   "source": [
    "def TFiDFLinearRegression(df_train, df_test, neg_sentences, pos_sentences, \n",
    "                          max_df, min_df, ngram_range, max_features,\n",
    "                          neg_sentiment = None, pos_sentiment = None):\n",
    "    vectorizer = TfidfVectorizer(max_df = max_df, min_df = min_df, \n",
    "                             norm='l2', use_idf = True,\n",
    "                             smooth_idf = True, stop_words = None, \n",
    "                             ngram_range = ngram_range, max_features = max_features,\n",
    "                             sublinear_tf=True, lowercase=False)\n",
    "    neg_vectorizer = vectorizer.fit(df_train[neg_sentences].astype(str))\n",
    "    pos_vectorizer = vectorizer.fit(df_train[pos_sentences].astype(str))\n",
    "    # train\n",
    "    X_neg = neg_vectorizer.transform(df_train[neg_sentences].astype(str))\n",
    "    X_pos = pos_vectorizer.transform(df_train[pos_sentences].astype(str))\n",
    "    X_train = scipy.sparse.hstack([X_neg, X_pos])\n",
    "    y_train = df_train.score\n",
    "    # test\n",
    "    X_neg = neg_vectorizer.transform(df_test[neg_sentences].astype(str))\n",
    "    X_pos = pos_vectorizer.transform(df_test[pos_sentences].astype(str))\n",
    "    X_test = scipy.sparse.hstack([X_neg, X_pos])\n",
    "    y_test = df_test.score\n",
    "    if neg_sentiment:\n",
    "        sent_train = np.array(df_train[neg_sentiment]).reshape(-1,1)\n",
    "        sent_test = np.array(df_test[neg_sentiment]).reshape(-1,1)\n",
    "        X_train = scipy.sparse.hstack([X_train, sent_train])\n",
    "        X_test = scipy.sparse.hstack([X_test, sent_test])\n",
    "    if pos_sentiment:\n",
    "        sent_train = np.array(df_train[pos_sentiment]).reshape(-1,1)\n",
    "        sent_test = np.array(df_test[pos_sentiment]).reshape(-1,1)\n",
    "        X_train = scipy.sparse.hstack([X_train, sent_train])\n",
    "        X_test = scipy.sparse.hstack([X_test, sent_test])\n",
    "    # Run\n",
    "    LR = LinearRegression()\n",
    "    LR.fit(X_train, y_train)\n",
    "    y_train_pred = LR.predict(X_train)\n",
    "    y_test_pred = LR.predict(X_test)\n",
    "    # correct for out of bounds scores\n",
    "    y_train_pred = [x if x <= 10 else 10 for x in y_train_pred] # score <= 10\n",
    "    y_train_pred = [x if x >= 0 else 0 for x in y_train_pred]   # score >= 0\n",
    "    y_test_pred = [x if x <= 10 else 10 for x in y_test_pred]   # score <= 10\n",
    "    y_test_pred = [x if x >= 0 else 0 for x in y_test_pred]     # score >= 0\n",
    "    # obtain scores\n",
    "    mae_train = mean_absolute_error(y_train, y_train_pred)\n",
    "    mae_test = mean_absolute_error(y_test, y_test_pred)\n",
    "    print(f\"MAE Train: {np.round(mae_train,4)}\")\n",
    "    print(f\"MAE Test: {np.round(mae_test,4)}\")\n",
    "    pass "
   ]
  },
  {
   "cell_type": "code",
   "execution_count": 161,
   "metadata": {},
   "outputs": [
    {
     "name": "stdout",
     "output_type": "stream",
     "text": [
      "-->No Preprocessing<--\n",
      "MAE Train: 0.7801\n",
      "MAE Test: 0.8351\n"
     ]
    }
   ],
   "source": [
    "print('-->No Preprocessing<--')\n",
    "TFiDFLinearRegression(df_train, df_test, 'negativeV0', 'positiveV0', \n",
    "                      max_df = .99, min_df = 10, ngram_range = (1,2), \n",
    "                      max_features = 2000)"
   ]
  },
  {
   "cell_type": "code",
   "execution_count": 68,
   "metadata": {},
   "outputs": [
    {
     "name": "stdout",
     "output_type": "stream",
     "text": [
      "-->No Preprocessing + Subsampling<--\n",
      "MAE Train: 1.148\n",
      "MAE Test: 1.1927\n"
     ]
    }
   ],
   "source": [
    "print('-->No Preprocessing + Subsampling<--')\n",
    "TFiDFLinearRegression(df_train, df_test, 'negativeV0_sub', 'positiveV0_sub', \n",
    "                      max_df = .99, min_df = 10, ngram_range = (1,2), \n",
    "                      max_features = 2000)"
   ]
  },
  {
   "cell_type": "code",
   "execution_count": 69,
   "metadata": {},
   "outputs": [
    {
     "name": "stdout",
     "output_type": "stream",
     "text": [
      "-->Preprocessing<--\n",
      "MAE Train: 0.7812\n",
      "MAE Test: 0.8324\n"
     ]
    }
   ],
   "source": [
    "print('-->Preprocessing<--')\n",
    "TFiDFLinearRegression(df_train, df_test, 'negativeV1', 'positiveV1',\n",
    "                      max_df = 0.99, min_df = 10, ngram_range = (1,2), \n",
    "                      max_features = 2000)"
   ]
  },
  {
   "cell_type": "code",
   "execution_count": 70,
   "metadata": {},
   "outputs": [
    {
     "name": "stdout",
     "output_type": "stream",
     "text": [
      "-->Preprocessing + Sentiment Scores<--\n",
      "MAE Train: 0.7812\n",
      "MAE Test: 0.8324\n"
     ]
    }
   ],
   "source": [
    "print('-->Preprocessing + Sentiment Scores<--')\n",
    "TFiDFLinearRegression(df_train, df_test, 'negativeV1', 'positiveV1',\n",
    "                      max_df = 0.99, min_df = 10, ngram_range = (1,2), \n",
    "                      max_features = 2000,\n",
    "                      pos_sentiment = 'pos_sentiment',\n",
    "                      neg_sentiment = 'neg_sentiment')"
   ]
  },
  {
   "cell_type": "markdown",
   "metadata": {},
   "source": [
    "# word2vec + Linear Regression without IDF weights\n",
    "\n",
    "Parameters:\n",
    "- VECTOR_SIZE -- dimensionality of the embeddings\n",
    "- MIN_COUNT -- words with lower frequency are not considered\n",
    "- WINDOW -- window for nearby words to consider (higher the window, larger the sample)\n",
    "- HS -- if 1, then hierarchical sampling is used for esimation\n",
    "- NEGATIVE -- if > 0, then corresponding number is the number of negative samples\n",
    "- EPOCHS -- how much to train"
   ]
  },
  {
   "cell_type": "code",
   "execution_count": 84,
   "metadata": {},
   "outputs": [],
   "source": [
    "def word2vecLinearRegression(df_train, df_test, positive_tokens, negative_tokens,\n",
    "                             dimensions, min_count, window, num_ns, epochs,\n",
    "                             neg_sentiment=None, pos_sentiment=None):\n",
    "    w2v_pos = Word2Vec(sentences = df_train[positive_tokens],\n",
    "                   vector_size = dimensions, min_count = min_count,\n",
    "                   window = window, sg = 1, hs = 0, negative = num_ns,\n",
    "                   epochs = epochs, workers = 10, shrink_windows = False)\n",
    "    w2v_neg = Word2Vec(sentences = df_train[negative_tokens],\n",
    "                   vector_size = dimensions, min_count = min_count,\n",
    "                   window = window, sg = 1, hs = 0, negative = num_ns,\n",
    "                   epochs = epochs, workers = 10, shrink_windows = False)\n",
    "    # train\n",
    "    X_neg = np.array([w2v_neg.wv.get_mean_vector(x, ignore_missing=True) for x in df_train[negative_tokens]])\n",
    "    X_pos = np.array([w2v_pos.wv.get_mean_vector(x, ignore_missing=True) for x in df_train[positive_tokens]])\n",
    "    X_train = np.hstack([X_neg, X_pos])\n",
    "    y_train = df_train.score\n",
    "    # test\n",
    "    X_neg = np.array([w2v_neg.wv.get_mean_vector(x, ignore_missing=True) for x in df_test[negative_tokens]])\n",
    "    X_pos = np.array([w2v_pos.wv.get_mean_vector(x, ignore_missing=True) for x in df_test[positive_tokens]])\n",
    "    X_test = np.hstack([X_neg, X_pos])\n",
    "    y_test = df_test.score\n",
    "    if neg_sentiment:\n",
    "        sent_train = np.array(df_train[neg_sentiment]).reshape(-1,1)\n",
    "        sent_test = np.array(df_test[neg_sentiment]).reshape(-1,1)\n",
    "        X_train = np.hstack([X_train, sent_train])\n",
    "        X_test = np.hstack([X_test, sent_test])\n",
    "    if pos_sentiment:\n",
    "        sent_train = np.array(df_train[pos_sentiment]).reshape(-1,1)\n",
    "        sent_test = np.array(df_test[pos_sentiment]).reshape(-1,1)\n",
    "        X_train = np.hstack([X_train, sent_train])\n",
    "        X_test = np.hstack([X_test, sent_test])\n",
    "    # fit\n",
    "    LR = LinearRegression()\n",
    "    LR.fit(X_train, y_train)\n",
    "    y_train_pred = LR.predict(X_train)\n",
    "    y_test_pred = LR.predict(X_test)\n",
    "    # correct for out of bounds scores\n",
    "    y_train_pred = [x if x <= 10 else 10 for x in y_train_pred] # score <= 10\n",
    "    y_train_pred = [x if x >= 0 else 0 for x in y_train_pred]   # score >= 0\n",
    "    y_test_pred = [x if x <= 10 else 10 for x in y_test_pred]   # score <= 10\n",
    "    y_test_pred = [x if x >= 0 else 0 for x in y_test_pred]     # score >= 0\n",
    "    # obtain score\n",
    "    mae_train = mean_absolute_error(y_train, y_train_pred)\n",
    "    mae_test = mean_absolute_error(y_test, y_test_pred)\n",
    "#     print(f\"MAE Train: {np.round(mae_train,4)}\")\n",
    "#     print(f\"MAE Test: {np.round(mae_test,4)}\")\n",
    "    return mae_train, mae_test"
   ]
  },
  {
   "cell_type": "code",
   "execution_count": 116,
   "metadata": {},
   "outputs": [],
   "source": [
    "# hyperparameters\n",
    "dimensions = 800   # best parameter -- from np.arange(100, 1100, 100)\n",
    "min_count = 20     # best           -- from np.arange(0, 110, 10)\n",
    "window = 4         # best           -- from np.arange(1, 10, 1)\n",
    "num_ns = 10        # best is 20     -- from np.arange(1, 20, 2)\n",
    "epochs = 10        # best"
   ]
  },
  {
   "cell_type": "code",
   "execution_count": 81,
   "metadata": {},
   "outputs": [
    {
     "name": "stdout",
     "output_type": "stream",
     "text": [
      "MAE Train: 0.8847\n",
      "MAE Test: 0.914\n"
     ]
    },
    {
     "data": {
      "text/plain": [
       "(0.8846974999593099, 0.9140499558906555)"
      ]
     },
     "execution_count": 81,
     "metadata": {},
     "output_type": "execute_result"
    }
   ],
   "source": [
    "word2vecLinearRegression(df_train, df_test, 'positive_tokensV0', 'negative_tokensV0',\n",
    "                          dimensions, min_count, window, num_ns, epochs=epochs,\n",
    "                          neg_sentiment=None, pos_sentiment=None)"
   ]
  },
  {
   "cell_type": "code",
   "execution_count": 82,
   "metadata": {},
   "outputs": [
    {
     "name": "stdout",
     "output_type": "stream",
     "text": [
      "MAE Train: 0.8831\n",
      "MAE Test: 0.9093\n"
     ]
    },
    {
     "data": {
      "text/plain": [
       "(0.8830728664029438, 0.9092946476593017)"
      ]
     },
     "execution_count": 82,
     "metadata": {},
     "output_type": "execute_result"
    }
   ],
   "source": [
    "word2vecLinearRegression(df_train, df_test, 'positive_tokensV1', 'negative_tokensV1',\n",
    "                          dimensions, min_count, window, num_ns, epochs=epochs,\n",
    "                          neg_sentiment=None, pos_sentiment=None)"
   ]
  },
  {
   "cell_type": "code",
   "execution_count": 86,
   "metadata": {},
   "outputs": [
    {
     "name": "stderr",
     "output_type": "stream",
     "text": [
      "100%|███████████████████████████████████████████| 10/10 [09:27<00:00, 56.74s/it]\n"
     ]
    },
    {
     "data": {
      "text/plain": [
       "<matplotlib.legend.Legend at 0x2cd168850>"
      ]
     },
     "execution_count": 86,
     "metadata": {},
     "output_type": "execute_result"
    },
    {
     "data": {
      "image/png": "[encoded data removed]",
      "text/plain": [
       "<Figure size 640x480 with 1 Axes>"
      ]
     },
     "metadata": {
      "image/png": {
       "height": 413,
       "width": 556
      }
     },
     "output_type": "display_data"
    }
   ],
   "source": [
    "train_scores = []\n",
    "test_scores = []\n",
    "for dimensions in tqdm.tqdm(np.arange(100, 1100, 100)):\n",
    "    mae_train, mae_test = word2vecLinearRegression(df_train, df_test, 'positive_tokensV1', 'negative_tokensV1',\n",
    "                          dimensions, min_count, window, num_ns, epochs=epochs,\n",
    "                          neg_sentiment=None, pos_sentiment=None)\n",
    "    train_scores.append(mae_train)\n",
    "    test_scores.append(mae_test)\n",
    "    \n",
    "plt.plot(np.arange(100, 1100, 100), train_scores, label = 'train', color = 'tab:blue')\n",
    "plt.plot(np.arange(100, 1100, 100), test_scores, label = 'test', color = 'tab:red')\n",
    "plt.legend()"
   ]
  },
  {
   "cell_type": "code",
   "execution_count": 95,
   "metadata": {},
   "outputs": [
    {
     "name": "stdout",
     "output_type": "stream",
     "text": [
      "Best test score: 0.9075\n",
      "Best number of dimension: 800\n"
     ]
    }
   ],
   "source": [
    "print(f\"Best test score: {np.round(np.min(test_scores),4)}\")\n",
    "print(f\"Best number of dimension: {np.arange(100, 1100, 100)[np.argmin(test_scores)]}\")"
   ]
  },
  {
   "cell_type": "markdown",
   "metadata": {},
   "source": [
    "# word2vec + LinearRegression with IDF weights"
   ]
  },
  {
   "cell_type": "code",
   "execution_count": 101,
   "metadata": {},
   "outputs": [],
   "source": [
    "class Word2VecRegression:\n",
    "    def __init__(self, df_train, df_test,\n",
    "                 neg_column, pos_column, y_column,\n",
    "                 dimensions, min_count, window,\n",
    "                 num_ns, idf_weights, epochs):\n",
    "        self.df_train, self.df_test = df_train, df_test\n",
    "        self.vector_size = dimensions\n",
    "        self.min_count = min_count\n",
    "        self.window = window\n",
    "        self.negative = num_ns\n",
    "        self.neg_column, self.pos_column = neg_column, pos_column\n",
    "        self.y_column = y_column\n",
    "        self.idf_weights = idf_weights\n",
    "        self.epochs = epochs\n",
    "        \n",
    "        \n",
    "        self.w2v_pos = self.Word2VecSpecification(df_train[pos_column])\n",
    "        self.w2v_neg = self.Word2VecSpecification(df_train[neg_column])\n",
    "    \n",
    "    def Word2VecSpecification(self, sentences):\n",
    "        w2v = Word2Vec(sentences,\n",
    "                    vector_size = self.vector_size, \n",
    "                    min_count = self.min_count, \n",
    "                    window = self.window, sg = 1, \n",
    "                    hs = 0, negative = self.negative,\n",
    "                    epochs = self.epochs, shrink_windows = False, \n",
    "                    workers = 10\n",
    "                    ).wv\n",
    "        return w2v\n",
    "        \n",
    "    def get_idf_dicts(self, data):\n",
    "        idf_dicts = []\n",
    "        columns = [self.neg_column, self.pos_column]\n",
    "        for column in columns:\n",
    "            wrds = set([wrd for wrd_list in data[column] for wrd in wrd_list])\n",
    "            corpus = [' '.join(x) for x in data[column]]\n",
    "            pipe = Pipeline([('count', CountVectorizer(vocabulary=wrds, lowercase=False)),\n",
    "                            ('tfidf', TfidfTransformer())]).fit(corpus)\n",
    "            idf_dict = dict(zip(wrds, pipe['tfidf'].idf_))      \n",
    "            idf_dicts.append(idf_dict)  \n",
    "        return idf_dicts\n",
    "        \n",
    "    def get_train_test(self):\n",
    "        columns = [self.neg_column, self.pos_column]\n",
    "        if self.idf_weights:\n",
    "            [nidf_dict_train, pidf_dict_train] = self.get_idf_dicts(self.df_train)\n",
    "            [nidf_dict_test, pidf_dict_test]  = self.get_idf_dicts(self.df_test)\n",
    "\n",
    "            # train\n",
    "            X_neg = np.array([self.w2v_neg.get_mean_vector(wrd_list, \n",
    "                                                    ignore_missing=True, \n",
    "                                                    weights = [nidf_dict_train[wrd] for wrd in wrd_list]) \n",
    "                            for wrd_list in self.df_train[self.neg_column]])\n",
    "            X_pos = np.array([self.w2v_pos.get_mean_vector(wrd_list, \n",
    "                                                    ignore_missing=True, \n",
    "                                                    weights = [pidf_dict_train[wrd] for wrd in wrd_list]) \n",
    "                            for wrd_list in self.df_train[self.pos_column]])\n",
    "            X_train = np.hstack([X_neg, X_pos])\n",
    "\n",
    "            # test\n",
    "            X_neg = np.array([self.w2v_neg.get_mean_vector(wrd_list, \n",
    "                                                    ignore_missing=True, \n",
    "                                                    weights = [nidf_dict_test[wrd] for wrd in wrd_list]) \n",
    "                            for wrd_list in self.df_test[self.neg_column]])\n",
    "            X_pos = np.array([self.w2v_pos.get_mean_vector(wrd_list, \n",
    "                                                    ignore_missing=True, \n",
    "                                                    weights = [pidf_dict_test[wrd] for wrd in wrd_list]) \n",
    "                            for wrd_list in self.df_test[self.pos_column]])\n",
    "            X_test = np.hstack([X_neg, X_pos])\n",
    "        else:\n",
    "            # train\n",
    "            X_neg = np.array([self.w2v_neg.get_mean_vector(x, ignore_missing=True) for x in self.df_train[self.neg_column]])\n",
    "            X_pos = np.array([self.w2v_pos.get_mean_vector(x, ignore_missing=True) for x in self.df_train[self.pos_column]])\n",
    "            X_train = np.hstack([X_neg, X_pos])\n",
    "            # test\n",
    "            X_neg = np.array([self.w2v_neg.get_mean_vector(x, ignore_missing=True) for x in self.df_test[self.neg_column]])\n",
    "            X_pos = np.array([self.w2v_pos.get_mean_vector(x, ignore_missing=True) for x in self.df_test[self.pos_column]])\n",
    "            X_test = np.hstack([X_neg, X_pos])\n",
    "\n",
    "        return X_train, X_test\n",
    "\n",
    "    def fit(self):\n",
    "        X_train, X_test = self.get_train_test()\n",
    "        y_train, y_test = self.df_train[self.y_column], self.df_test[self.y_column]\n",
    "        LR = LinearRegression()\n",
    "        LR.fit(X_train, y_train)\n",
    "        y_train_pred = LR.predict(X_train)\n",
    "        y_test_pred = LR.predict(X_test)\n",
    "        # correct for out of bounds scores\n",
    "        y_train_pred = [x if x <= 10 else 10 for x in y_train_pred] # score <= 10\n",
    "        y_train_pred = [x if x >= 0 else 0 for x in y_train_pred]   # score >= 0\n",
    "        y_test_pred = [x if x <= 10 else 10 for x in y_test_pred]   # score <= 10\n",
    "        y_test_pred = [x if x >= 0 else 0 for x in y_test_pred]     # score >= 0\n",
    "        # scores\n",
    "        mae_train = mean_absolute_error(y_train, y_train_pred)\n",
    "        mae_test = mean_absolute_error(y_test, y_test_pred)\n",
    "#         print(f\"MAE Train: {mae_train}\")\n",
    "#         print(f\"MAE Test: {mae_test}\")\n",
    "        return mae_train, mae_test"
   ]
  },
  {
   "cell_type": "code",
   "execution_count": 102,
   "metadata": {},
   "outputs": [
    {
     "data": {
      "text/plain": [
       "(0.8796950949541728, 0.9019152182998657)"
      ]
     },
     "execution_count": 102,
     "metadata": {},
     "output_type": "execute_result"
    }
   ],
   "source": [
    "Word2VecRegression(df_train, df_test, 'negative_tokensV0', 'positive_tokensV0',\n",
    "                             'score', dimensions = dimensions, min_count = min_count,\n",
    "                             window = window, num_ns = num_ns, \n",
    "                             idf_weights = True, epochs = 10).fit()"
   ]
  },
  {
   "cell_type": "code",
   "execution_count": 103,
   "metadata": {},
   "outputs": [
    {
     "data": {
      "text/plain": [
       "(0.878580732316335, 0.9153224629631042)"
      ]
     },
     "execution_count": 103,
     "metadata": {},
     "output_type": "execute_result"
    }
   ],
   "source": [
    "Word2VecRegression(df_train, df_test, 'negative_tokensV1', 'positive_tokensV1',\n",
    "                             'score', dimensions = dimensions, min_count = min_count,\n",
    "                             window = window, num_ns = num_ns, \n",
    "                             idf_weights = True, epochs = 10).fit()"
   ]
  },
  {
   "cell_type": "code",
   "execution_count": 104,
   "metadata": {},
   "outputs": [
    {
     "name": "stderr",
     "output_type": "stream",
     "text": [
      "100%|███████████████████████████████████████████| 10/10 [09:41<00:00, 58.19s/it]\n"
     ]
    },
    {
     "data": {
      "text/plain": [
       "<matplotlib.legend.Legend at 0x2cbfb6d00>"
      ]
     },
     "execution_count": 104,
     "metadata": {},
     "output_type": "execute_result"
    },
    {
     "data": {
      "image/png": "[encoded data removed]",
      "text/plain": [
       "<Figure size 640x480 with 1 Axes>"
      ]
     },
     "metadata": {
      "image/png": {
       "height": 413,
       "width": 556
      }
     },
     "output_type": "display_data"
    }
   ],
   "source": [
    "train_scores = []\n",
    "test_scores = []\n",
    "for dimensions in tqdm.tqdm(np.arange(100, 1100, 100)):\n",
    "    mae_train, mae_test = Word2VecRegression(df_train, df_test, 'negative_tokensV1', 'positive_tokensV1',\n",
    "                                             'score', dimensions = dimensions, min_count = min_count,\n",
    "                                             window = window, num_ns = num_ns, \n",
    "                                             idf_weights = True, epochs = 10).fit()\n",
    "    train_scores.append(mae_train)\n",
    "    test_scores.append(mae_test)\n",
    "    \n",
    "plt.plot(np.arange(100, 1100, 100), train_scores, label = 'train', color = 'tab:blue')\n",
    "plt.plot(np.arange(100, 1100, 100), test_scores, label = 'test', color = 'tab:red')\n",
    "plt.legend()"
   ]
  },
  {
   "cell_type": "code",
   "execution_count": 105,
   "metadata": {},
   "outputs": [
    {
     "name": "stdout",
     "output_type": "stream",
     "text": [
      "Best test score: 0.9133\n",
      "Best number of dimension: 800\n"
     ]
    }
   ],
   "source": [
    "print(f\"Best test score: {np.round(np.min(test_scores),4)}\")\n",
    "print(f\"Best number of dimension: {np.arange(100, 1100, 100)[np.argmin(test_scores)]}\")"
   ]
  },
  {
   "cell_type": "markdown",
   "metadata": {},
   "source": [
    "## Other Embeddings: FastText\n",
    "[see](https://kavita-ganesan.com/fasttext-vs-word2vec/#.ZDttYS8Rr5g) and [see](https://radimrehurek.com/gensim/models/fasttext.html)"
   ]
  },
  {
   "cell_type": "code",
   "execution_count": 108,
   "metadata": {},
   "outputs": [],
   "source": [
    "from gensim.models.fasttext import FastText"
   ]
  },
  {
   "cell_type": "code",
   "execution_count": 113,
   "metadata": {},
   "outputs": [],
   "source": [
    "class FastTextRegression:\n",
    "    def __init__(self, df_train, df_test,\n",
    "                 neg_column, pos_column, y_column,\n",
    "                 dimensions, min_count, window,\n",
    "                 num_ns, idf_weights, epochs,\n",
    "                 min_n, max_n):\n",
    "        self.df_train, self.df_test = df_train, df_test\n",
    "        self.vector_size = dimensions\n",
    "        self.min_count = min_count\n",
    "        self.window = window\n",
    "        self.negative = num_ns\n",
    "        self.neg_column, self.pos_column = neg_column, pos_column\n",
    "        self.y_column = y_column\n",
    "        self.idf_weights = idf_weights\n",
    "        self.epochs = epochs\n",
    "        self.min_n, self.max_n = min_n, max_n\n",
    "        \n",
    "    \n",
    "        self.w2v_pos = self.FastTextSpecification(df_train[pos_column])\n",
    "        self.w2v_neg = self.FastTextSpecification(df_train[neg_column])\n",
    "    \n",
    "    def FastTextSpecification(self, sentences):\n",
    "        w2v = FastText(sentences,\n",
    "                    vector_size = self.vector_size, \n",
    "                    min_count = self.min_count, \n",
    "                    window = self.window, sg = 1, \n",
    "                    hs = 0, negative = self.negative,\n",
    "                    epochs = self.epochs, shrink_windows = False, \n",
    "                    min_n = self.min_n, max_n = self.max_n\n",
    "                    ).wv\n",
    "        return w2v\n",
    "        \n",
    "        \n",
    "    def get_idf_dicts(self, data):\n",
    "        idf_dicts = []\n",
    "        columns = [self.neg_column, self.pos_column]\n",
    "        for column in columns:\n",
    "            wrds = set([wrd for wrd_list in data[column] for wrd in wrd_list])\n",
    "            corpus = [' '.join(x) for x in data[column]]\n",
    "            pipe = Pipeline([('count', CountVectorizer(vocabulary=wrds, lowercase=False)),\n",
    "                            ('tfidf', TfidfTransformer())]).fit(corpus)\n",
    "            idf_dict = dict(zip(wrds, pipe['tfidf'].idf_))      \n",
    "            idf_dicts.append(idf_dict)  \n",
    "        return idf_dicts\n",
    "        \n",
    "    def get_train_test(self):\n",
    "        columns = [self.neg_column, self.pos_column]\n",
    "        if self.idf_weights:\n",
    "            [nidf_dict_train, pidf_dict_train] = self.get_idf_dicts(self.df_train)\n",
    "            [nidf_dict_test, pidf_dict_test]  = self.get_idf_dicts(self.df_test)\n",
    "\n",
    "            # train\n",
    "            X_neg = np.array([self.w2v_neg.get_mean_vector(wrd_list, \n",
    "                                                    ignore_missing=True, \n",
    "                                                    weights = [nidf_dict_train[wrd] for wrd in wrd_list]) \n",
    "                            for wrd_list in self.df_train[self.neg_column]])\n",
    "            X_pos = np.array([self.w2v_pos.get_mean_vector(wrd_list, \n",
    "                                                    ignore_missing=True, \n",
    "                                                    weights = [pidf_dict_train[wrd] for wrd in wrd_list]) \n",
    "                            for wrd_list in self.df_train[self.pos_column]])\n",
    "            X_train = np.hstack([X_neg, X_pos])\n",
    "\n",
    "            # test\n",
    "            X_neg = np.array([self.w2v_neg.get_mean_vector(wrd_list, \n",
    "                                                    ignore_missing=True, \n",
    "                                                    weights = [nidf_dict_test[wrd] for wrd in wrd_list]) \n",
    "                            for wrd_list in self.df_test[self.neg_column]])\n",
    "            X_pos = np.array([self.w2v_pos.get_mean_vector(wrd_list, \n",
    "                                                    ignore_missing=True, \n",
    "                                                    weights = [pidf_dict_test[wrd] for wrd in wrd_list]) \n",
    "                            for wrd_list in self.df_test[self.pos_column]])\n",
    "            X_test = np.hstack([X_neg, X_pos])\n",
    "        else:\n",
    "            # train\n",
    "            X_neg = np.array([self.w2v_neg.get_mean_vector(x, ignore_missing=True) for x in self.df_train[self.neg_column]])\n",
    "            X_pos = np.array([self.w2v_pos.get_mean_vector(x, ignore_missing=True) for x in self.df_train[self.pos_column]])\n",
    "            X_train = np.hstack([X_neg, X_pos])\n",
    "            # test\n",
    "            X_neg = np.array([self.w2v_neg.get_mean_vector(x, ignore_missing=True) for x in self.df_test[self.neg_column]])\n",
    "            X_pos = np.array([self.w2v_pos.get_mean_vector(x, ignore_missing=True) for x in self.df_test[self.pos_column]])\n",
    "            X_test = np.hstack([X_neg, X_pos])\n",
    "\n",
    "        return X_train, X_test\n",
    "\n",
    "    def fit(self):\n",
    "        X_train, X_test = self.get_train_test()\n",
    "        y_train, y_test = self.df_train[self.y_column], self.df_test[self.y_column]\n",
    "        LR = LinearRegression()\n",
    "        LR.fit(X_train, y_train)\n",
    "        y_train_pred = LR.predict(X_train)\n",
    "        y_test_pred = LR.predict(X_test)\n",
    "        # correct for out of bounds scores\n",
    "        y_train_pred = [x if x <= 10 else 10 for x in y_train_pred] # score <= 10\n",
    "        y_train_pred = [x if x >= 0 else 0 for x in y_train_pred]   # score >= 0\n",
    "        y_test_pred = [x if x <= 10 else 10 for x in y_test_pred]   # score <= 10\n",
    "        y_test_pred = [x if x >= 0 else 0 for x in y_test_pred]     # score >= 0\n",
    "        # scores\n",
    "        mae_train = mean_absolute_error(y_train, y_train_pred)\n",
    "        mae_test = mean_absolute_error(y_test, y_test_pred)\n",
    "#         print(f\"MAE Train: {mae_train}\")\n",
    "#         print(f\"MAE Test: {mae_test}\\n\")\n",
    "        return mae_train, mae_test   \n",
    "    "
   ]
  },
  {
   "cell_type": "markdown",
   "metadata": {},
   "source": [
    "### Training with 300 dimensions: FastText vs. word2vec"
   ]
  },
  {
   "cell_type": "code",
   "execution_count": 119,
   "metadata": {},
   "outputs": [
    {
     "name": "stdout",
     "output_type": "stream",
     "text": [
      "-->w/o IDF weights<--\n"
     ]
    },
    {
     "data": {
      "text/plain": [
       "(0.9099441762682597, 0.9178718405570984)"
      ]
     },
     "execution_count": 119,
     "metadata": {},
     "output_type": "execute_result"
    }
   ],
   "source": [
    "print('-->w/o IDF weights<--')\n",
    "FastTextRegression(df_train, df_test, 'negative_tokensV1', 'positive_tokensV1',\n",
    "                   'score', dimensions = 300, min_count = min_count,\n",
    "                   window = window, num_ns = num_ns, \n",
    "                   idf_weights = False, epochs = 10,\n",
    "                   min_n = 3, max_n = 6).fit()"
   ]
  },
  {
   "cell_type": "code",
   "execution_count": 176,
   "metadata": {},
   "outputs": [
    {
     "name": "stdout",
     "output_type": "stream",
     "text": [
      "-->w/ IDF weights<--\n"
     ]
    },
    {
     "data": {
      "text/plain": [
       "(0.9104867882334391, 0.9241048234634399)"
      ]
     },
     "execution_count": 176,
     "metadata": {},
     "output_type": "execute_result"
    }
   ],
   "source": [
    "print('-->w/ IDF weights<--')\n",
    "FastTextRegression(df_train, df_test, 'negative_tokensV1', 'positive_tokensV1',\n",
    "                   'score', dimensions = 300, min_count = min_count,\n",
    "                   window = window, num_ns = num_ns, \n",
    "                   idf_weights = True, epochs = 10,\n",
    "                   min_n = 3, max_n = 6).fit()"
   ]
  },
  {
   "cell_type": "code",
   "execution_count": 177,
   "metadata": {},
   "outputs": [
    {
     "name": "stdout",
     "output_type": "stream",
     "text": [
      "-->Comparison: word2vec w/o IDF weights<--\n"
     ]
    },
    {
     "data": {
      "text/plain": [
       "(0.9070209678223927, 0.9169806029491425)"
      ]
     },
     "execution_count": 177,
     "metadata": {},
     "output_type": "execute_result"
    }
   ],
   "source": [
    "print('-->Comparison: word2vec w/o IDF weights<--')\n",
    "Word2VecRegression(df_train, df_test, 'negative_tokensV1', 'positive_tokensV1',\n",
    "                   'score', dimensions = 300, min_count = min_count,\n",
    "                   window = window, num_ns = num_ns, \n",
    "                   idf_weights = False, epochs = 10).fit()"
   ]
  },
  {
   "cell_type": "markdown",
   "metadata": {},
   "source": [
    "## Conclusions\n",
    "\n",
    "**Best Performances**\n",
    "- TF-IDF + LinearRegression: $0.8324$\n",
    "- word2vec + LinearRegression: $0.9093$\n",
    "- word2vec + LinearRegresssion with IDF weights: $0.9019$ (without preprocessing, with preprocessing performs worse)\n",
    "\n",
    "\n",
    "**Conclusions**\n",
    "\n",
    "1. *Subsampling* does not help\n",
    "2. Preprocessing routine leads to improved performance for most of the models"
   ]
  }
 ],
 "metadata": {
  "kernelspec": {
   "display_name": "Python 3 (ipykernel)",
   "language": "python",
   "name": "python3"
  },
  "language_info": {
   "codemirror_mode": {
    "name": "ipython",
    "version": 3
   },
   "file_extension": ".py",
   "mimetype": "text/x-python",
   "name": "python",
   "nbconvert_exporter": "python",
   "pygments_lexer": "ipython3",
   "version": "3.8.13"
  },
  "vscode": {
   "interpreter": {
    "hash": "766a2dfa3c07378d953c9613fabb40f4d6203ae9c7be041858be35bdf517ece5"
   }
  }
 },
 "nbformat": 4,
 "nbformat_minor": 2
}
